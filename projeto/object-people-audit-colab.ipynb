{
  "cells": [
    {
      "cell_type": "markdown",
      "metadata": {
        "id": "view-in-github",
        "colab_type": "text"
      },
      "source": [
        "<a href=\"https://colab.research.google.com/github/EudesBPereira/fiap-ml-visao-computacional-auditoria-video/blob/main/projeto/object-people-audit-colab.ipynb\" target=\"_parent\"><img src=\"https://colab.research.google.com/assets/colab-badge.svg\" alt=\"Open In Colab\"/></a>"
      ]
    },
    {
      "cell_type": "markdown",
      "metadata": {
        "id": "kWBY3nU_ZHbb"
      },
      "source": [
        "# MBA FIAP Inteligência Artificial & Machine Learning\n",
        "\n",
        "## Visão Computacional: Auditoria Automática de Vídeo Baseada em Modelos de Deep-Learning\n",
        "\n",
        "> Atenção: este notebook foi desenhado para funcionar no **Google Collab**. Se pretende executar localmente prefira a versão local deste notebook, sem o sufixo ```-collab```.\n",
        "\n",
        "## 1. Introdução\n",
        "\n",
        "Este projeto final tem como objetivo explorar os conhecimentos adquiridos nas aulas práticas. Por meio uma trilha guiada para construir uma aplicação que tem por objetivo analisar imagens e extrair uma série de informações que serão utilizadas para compor uma análise de imagens e vídeos afim de construir uma forma de auditoria automatizada baseado em modelos de inteligência artificial.\n",
        "\n",
        "\n",
        "<p align=\"center\">\n",
        "<img src=\"https://github.com/michelpf/fiap-ml-visao-computacional-capstone/blob/master/projeto/imagens-aux/example.png?raw=1\">\n",
        "</p>\n",
        "\n",
        "\n",
        "Este projeto poderá ser feita por grupos de até 4 pessoas.\n",
        "\n",
        "| Nome dos Integrantes     | RM            | Turma |\n",
        "| :----------------------- | :------------- | :-----: |\n",
        "| Integrante 1             | RM 12345      | `1IA` |\n",
        "| Integrante 2             | RM 12345      | `1IA` |\n",
        "| Integrante 3             | RM 12345      | `1IA` |\n",
        "| Integrante 4             | RM 12345      | `1IA` |\n",
        "\n",
        "Por ser um projeto guiado, fique atento quando houver as marcações **Implementação** indica que é necessário realizar alguma implementação em Python no bloco a seguir onde há a inscrição ```## IMPLEMENTAR``` e **Resposta** indica que é esperado uma resposta objetiva relacionado a algum questionamento. \n",
        "\n",
        "**Cada grupo pode utilizar nas respostas objetivas quaisquer itens necessários que enriqueçam seu ponto vista, como gráficos, fotos e, até mesmo, trechos de código-fonte.**\n",
        "\n",
        "Pode-se utilizar quantos blocos forem necessários para realizar determinadas implementações ou utilizá-las para justificar as respostas. Não é obrigatório utilizar somente o bloco indicado.\n",
        "\n",
        "Ao final não se esqueça de subir os arquivos do projeto nas contas do GitHub de cada membro, ou subir na do representante do grupo e os membros realizarem o fork do projeto.\n",
        "\n",
        "A avaliação terá mais ênfase nos seguintes tópicos de desenvolvimento do projeto:\n",
        " \n",
        "1. __Modelo de identificação de idades__\n",
        "2. __Modelo de identificação de gênero__\n",
        "3. __Extração de faces (região de interesse)__\n",
        "4. __Análise de vídeo e extração de objetos__\n",
        "5. __Conclusões Finais__\n",
        "\n",
        "Para cada item haverá uma métrica de sucesso a ser perseguida e recomendações de como atingi-la. De todo modo os grupos terão liberdade para propor abordagem _ligeiramente_ diferentes para atinger as mesmas métricas. Apenas fica vetado o uso de APIs baseadas em cloud."
      ]
    },
    {
      "cell_type": "markdown",
      "metadata": {
        "id": "cXunF9RbZHbk"
      },
      "source": [
        "### 1.1 Componentes obrigatórios\n",
        "\n",
        "Todas as bibliotecas já estão instaladas no Google Colab.\n",
        "\n",
        "* Keras\n",
        "* Scikit-learn\n",
        "* Seaborn\n",
        "* DLib\n",
        "* OpenCv\n",
        "* Pandas\n",
        "* Numpy"
      ]
    },
    {
      "cell_type": "code",
      "execution_count": 2,
      "metadata": {
        "id": "Cr_PjjbZZHbm"
      },
      "outputs": [],
      "source": [
        "import numpy as np\n",
        "import matplotlib.image as mpimg\n",
        "import matplotlib.pyplot as plt\n",
        "import seaborn as sns\n",
        "import cv2\n",
        "\n",
        "from tqdm import tqdm\n",
        "\n",
        "#Exibição na mesma tela do Jupyter\n",
        "%matplotlib inline\n",
        "\n",
        "from os import listdir\n",
        "from os.path import isfile, join\n",
        "\n",
        "import pandas as pd\n",
        "import dlib\n",
        "\n",
        "import ast \n",
        "from sklearn.model_selection import train_test_split\n",
        "\n",
        "import os\n",
        "\n",
        "from tensorflow.keras.models import Sequential, load_model, model_from_json\n",
        "from tensorflow.keras.layers import Dense, Conv2D, Dropout, Flatten, MaxPooling2D, ZeroPadding2D, Convolution2D, Activation\n",
        "from tensorflow.keras.preprocessing.image import ImageDataGenerator\n",
        "from tensorflow.keras import Model, layers\n",
        "from tensorflow.keras import optimizers\n",
        "from tensorflow.keras.preprocessing import image\n",
        "from tensorflow import keras\n",
        "plt.style.use('seaborn')\n",
        "sns.set_style(\"whitegrid\", {'axes.grid' : False})"
      ]
    },
    {
      "cell_type": "markdown",
      "metadata": {
        "id": "znpueFg0ZHbo"
      },
      "source": [
        "### 1.1.1 Utilizando Google Drive\n",
        "\n",
        "Se usar o Google Drive para armazenar as imagens utilize o comando abaixo para montar seu drive.\n",
        "Você pode navegar pelas pastas pelo painel ao lado."
      ]
    },
    {
      "cell_type": "code",
      "execution_count": 3,
      "metadata": {
        "id": "6qMyf1dPZHbp",
        "colab": {
          "base_uri": "https://localhost:8080/"
        },
        "outputId": "fbbbae98-fa3e-4291-d423-b8e6b4466f9f"
      },
      "outputs": [
        {
          "output_type": "stream",
          "name": "stdout",
          "text": [
            "Drive already mounted at /content/drive; to attempt to forcibly remount, call drive.mount(\"/content/drive\", force_remount=True).\n"
          ]
        }
      ],
      "source": [
        "from google.colab import drive\n",
        "drive.mount('/content/drive')"
      ]
    },
    {
      "cell_type": "markdown",
      "metadata": {
        "id": "jL76dt0oZHbp"
      },
      "source": [
        "### 1.1.2 Utilizando o armazenamento efêmero\n",
        "\n",
        "Se optar pelo armazenamento efêmero você precisa enviar os arquivos de imagens (arrastar e soltar) para as pastas que deverão ser criadas na estrutura do Colab e nas pastas que serão criadas no clone do repositório."
      ]
    },
    {
      "cell_type": "markdown",
      "metadata": {
        "id": "_fp7dtV0ZHbq"
      },
      "source": [
        "### 1.1.3 Materiais de suporte e conjunto de dados\n",
        "\n",
        "As imagens e vídeos que serão utilizados no projeto estão no repositório. "
      ]
    },
    {
      "cell_type": "code",
      "execution_count": 5,
      "metadata": {
        "id": "rhp2-z8nZHbr",
        "colab": {
          "base_uri": "https://localhost:8080/"
        },
        "outputId": "00e924b7-f55e-43ed-c24e-121090c77475"
      },
      "outputs": [
        {
          "output_type": "stream",
          "name": "stdout",
          "text": [
            "Cloning into 'fiap-ml-visao-computacional-capstone'...\n",
            "remote: Enumerating objects: 52773, done.\u001b[K\n",
            "remote: Counting objects: 100% (6/6), done.\u001b[K\n",
            "remote: Compressing objects: 100% (6/6), done.\u001b[K\n",
            "remote: Total 52773 (delta 1), reused 2 (delta 0), pack-reused 52767\u001b[K\n",
            "Receiving objects: 100% (52773/52773), 695.90 MiB | 34.62 MiB/s, done.\n",
            "Resolving deltas: 100% (52/52), done.\n",
            "Checking out files: 100% (62350/62350), done.\n"
          ]
        }
      ],
      "source": [
        "!git clone https://github.com/michelpf/fiap-ml-visao-computacional-capstone"
      ]
    },
    {
      "cell_type": "code",
      "execution_count": 4,
      "metadata": {
        "id": "EwmiS6ytZHbs",
        "colab": {
          "base_uri": "https://localhost:8080/"
        },
        "outputId": "d9b0291b-c085-4395-f4ad-08c761c35b25"
      },
      "outputs": [
        {
          "output_type": "stream",
          "name": "stdout",
          "text": [
            "/content/fiap-ml-visao-computacional-capstone/projeto\n"
          ]
        }
      ],
      "source": [
        "%cd fiap-ml-visao-computacional-capstone/projeto/"
      ]
    },
    {
      "cell_type": "markdown",
      "metadata": {
        "id": "pJjpEtEkZHbu"
      },
      "source": [
        "## 1.2 O problema\n",
        "\n",
        "Atualmente, com a tecnologia disponível e acessível, sobretudo na obtenção de imagens e vídeos e em seu processamento, permite apoiar com mais ênfase atividades de auditoria e investigação de forma automatizada, sem a necessidade de uma pessoa realizar tais análises e ainda com maior acurácia.\n",
        "\n",
        "O uso de tecnologias relacionadas a visão computacional pode contribuir para tornar mais eficiente investigações de pessoas e objetos baseadas em suas características e em seu perfil, além de tornar esta atividade mais rápida e completa.\n",
        "\n",
        "A proposta deste projeto é apoiar uma aplicação de auditoria e investigação para automatizar a busca por regiões de interesse (objetos e determinadas pessoas) com as seguintes finalidades:\n",
        "\n",
        "* Encontrar pessoas do gênero masculino com mais de 45 anos de idade\n",
        "* Encontrar pessoas do gênero femimino com menos de 45 anos de idade\n",
        "* Encontrar objetos relacionados a informática, como computadores e telefones\n",
        "\n",
        "Uma busca manual em vídeos de vigilância é bem onerosa e pode deixar passar evidências importantes em processos investigativos.\n",
        "\n",
        "Ainda assim, a análise humana é realizada em último caso para decidir, se dentre as evidências coletadas, quais devem seguir para investigação mais apurada e quais não. A tarefa humana é mais de validação do que exploração.\n",
        "\n",
        "Para alcançar este objetivo iremos construir uma aplicação capaz de analisar um vídeo específico de um escritório, baseado na série de TV [_The Office_](https://pt.wikipedia.org/wiki/The_Office). A partir dele e de modelos de classificação de imagens, iremos coletar e armazenar imagens das regiões de interesse citadas para posterior análise de investigações.\n",
        "\n",
        "Deste modo, conforme já apresentado, seguiremos com o seguinte roteiro:\n",
        "\n",
        "* Desenvolver e construir um classificador de idade\n",
        "* Desenvolver e construir um classificador de gênero\n",
        "* Eleger a melhor forma de segmentar uma imagem de face\n",
        "* Configurar um modelo de detecção de objetos\n",
        "* Analisar um vídeo e extrair as regiões de interesse\n",
        "\n",
        "Por fim, deverá se realizado uma conclusão deste estudo, apresentando como foi a realização deste processo, pontos de acerto, pontos de melhoria e como poderia ser feito para aperfeiçoar os resultados."
      ]
    },
    {
      "cell_type": "markdown",
      "metadata": {
        "id": "xdCuWxQ_ZHbw"
      },
      "source": [
        "## 2. Construção de modelos em redes neurais profundas\n",
        "\n",
        "Nesta primeira parte, iremos construir um modelo baseado em redes neurais profundas (_deep learning_) capaz de identificar, a partir de uma imagem, qual é a idade da pessoa.\n",
        "\n",
        "Este tipo de classificador requer um mapeamento mais profundo de cada imagem além de ser necessário um número considerável de imagens para cada idade ou faixa de idade.\n",
        "\n",
        "Devido a necessidade de um número alto de imagens, vamos utilizar o dataset [IMDB-WIKI – 500k+ face images with age and gender labels](https://data.vision.ee.ethz.ch/cvl/rrothe/imdb-wiki) que foi utilizado no desafio _DEX: Deep EXpectation of apparent age from a single image_.\n",
        "\n",
        "Também foi utilizado dois excelentes artigos de Sefik Ilkin Serengil, que podem ser acessados [aqui](https://sefiks.com/2019/02/13/apparent-age-and-gender-prediction-in-keras) e [aqui](https://sefiks.com/2018/08/06/deep-face-recognition-with-keras). Esses artigos demonstram a aplicação do VGGFace para as tarefas de reconhecimento de idade e gênero. Artigos que foram ligeiramente adaptados e utilizados para o desafio.\n",
        "\n",
        "As imagens estão disponíveis na pasta ```imagens```.\n",
        "\n",
        "O arquivo ```age-faces-dataset.csv```, na pasta ```csv``` possui a relação de cada sujeito, contendo sua idade, localização da face, idade e referência da imagem, gênero, dentre outros campos. Com esta referência é possível associar determinado sujeito com sua face.\n",
        "\n",
        "No conjunto de dados, a representação do gênero masculino é codificada com o valor *1* e o gênero feminino com o valor *0*."
      ]
    },
    {
      "cell_type": "markdown",
      "metadata": {
        "id": "EVFGTwghZHbx"
      },
      "source": [
        "Abra o conjunto de dados utilizando o _Pandas_. Utilize o método ```read_csv```."
      ]
    },
    {
      "cell_type": "code",
      "execution_count": 5,
      "metadata": {
        "id": "c0g8E5m_ZHby"
      },
      "outputs": [],
      "source": [
        "# IMPLEMENTAR\n",
        "df =  pd.read_csv('/content/fiap-ml-visao-computacional-capstone/projeto/csv/age-faces-dataset.csv')"
      ]
    },
    {
      "cell_type": "markdown",
      "metadata": {
        "id": "GeeyM0MfZHby"
      },
      "source": [
        "Execute o comando abaixo para apresentação de uma amostra do conjunto de dados."
      ]
    },
    {
      "cell_type": "code",
      "execution_count": 6,
      "metadata": {
        "id": "AxZIYOtKZHbz",
        "colab": {
          "base_uri": "https://localhost:8080/",
          "height": 513
        },
        "outputId": "e612d0a8-4e35-46be-9428-b171014a4118"
      },
      "outputs": [
        {
          "output_type": "execute_result",
          "data": {
            "text/html": [
              "\n",
              "  <div id=\"df-870f1892-bbdd-471e-bbd7-6c6d6c994f75\">\n",
              "    <div class=\"colab-df-container\">\n",
              "      <div>\n",
              "<style scoped>\n",
              "    .dataframe tbody tr th:only-of-type {\n",
              "        vertical-align: middle;\n",
              "    }\n",
              "\n",
              "    .dataframe tbody tr th {\n",
              "        vertical-align: top;\n",
              "    }\n",
              "\n",
              "    .dataframe thead th {\n",
              "        text-align: right;\n",
              "    }\n",
              "</style>\n",
              "<table border=\"1\" class=\"dataframe\">\n",
              "  <thead>\n",
              "    <tr style=\"text-align: right;\">\n",
              "      <th></th>\n",
              "      <th>Unnamed: 0</th>\n",
              "      <th>dob</th>\n",
              "      <th>photo_taken</th>\n",
              "      <th>full_path</th>\n",
              "      <th>gender</th>\n",
              "      <th>name</th>\n",
              "      <th>face_location</th>\n",
              "      <th>face_score</th>\n",
              "      <th>second_face_score</th>\n",
              "      <th>date_of_birth</th>\n",
              "      <th>age</th>\n",
              "    </tr>\n",
              "  </thead>\n",
              "  <tbody>\n",
              "    <tr>\n",
              "      <th>0</th>\n",
              "      <td>0</td>\n",
              "      <td>723671</td>\n",
              "      <td>2009</td>\n",
              "      <td>['17/10000217_1981-05-05_2009.jpg']</td>\n",
              "      <td>1.0</td>\n",
              "      <td>['Sami Jauhojärvi']</td>\n",
              "      <td>[[111.29109473 111.29109473 252.66993082 252.6...</td>\n",
              "      <td>4.300962</td>\n",
              "      <td>NaN</td>\n",
              "      <td>1981</td>\n",
              "      <td>28</td>\n",
              "    </tr>\n",
              "    <tr>\n",
              "      <th>1</th>\n",
              "      <td>2</td>\n",
              "      <td>711677</td>\n",
              "      <td>2008</td>\n",
              "      <td>['12/100012_1948-07-03_2008.jpg']</td>\n",
              "      <td>1.0</td>\n",
              "      <td>['Marc Okrand']</td>\n",
              "      <td>[[113.52 169.84 366.08 422.4 ]]</td>\n",
              "      <td>4.329329</td>\n",
              "      <td>NaN</td>\n",
              "      <td>1948</td>\n",
              "      <td>60</td>\n",
              "    </tr>\n",
              "    <tr>\n",
              "      <th>2</th>\n",
              "      <td>4</td>\n",
              "      <td>720044</td>\n",
              "      <td>2012</td>\n",
              "      <td>['16/10002116_1971-05-31_2012.jpg']</td>\n",
              "      <td>0.0</td>\n",
              "      <td>['Diana Damrau']</td>\n",
              "      <td>[[171.61031405  75.5745124  266.76611571 170.7...</td>\n",
              "      <td>3.408442</td>\n",
              "      <td>NaN</td>\n",
              "      <td>1971</td>\n",
              "      <td>41</td>\n",
              "    </tr>\n",
              "    <tr>\n",
              "      <th>3</th>\n",
              "      <td>5</td>\n",
              "      <td>716189</td>\n",
              "      <td>2012</td>\n",
              "      <td>['02/10002702_1960-11-09_2012.jpg']</td>\n",
              "      <td>0.0</td>\n",
              "      <td>['Krista Tippett']</td>\n",
              "      <td>[[274.7656324   57.77009008 376.88699455 159.8...</td>\n",
              "      <td>4.748056</td>\n",
              "      <td>NaN</td>\n",
              "      <td>1960</td>\n",
              "      <td>52</td>\n",
              "    </tr>\n",
              "    <tr>\n",
              "      <th>4</th>\n",
              "      <td>6</td>\n",
              "      <td>707745</td>\n",
              "      <td>1971</td>\n",
              "      <td>['41/10003541_1937-09-27_1971.jpg']</td>\n",
              "      <td>1.0</td>\n",
              "      <td>['Bernie Whitebear']</td>\n",
              "      <td>[[ 79.35580189  26.65993396 197.60950472 144.9...</td>\n",
              "      <td>4.184828</td>\n",
              "      <td>NaN</td>\n",
              "      <td>1937</td>\n",
              "      <td>34</td>\n",
              "    </tr>\n",
              "  </tbody>\n",
              "</table>\n",
              "</div>\n",
              "      <button class=\"colab-df-convert\" onclick=\"convertToInteractive('df-870f1892-bbdd-471e-bbd7-6c6d6c994f75')\"\n",
              "              title=\"Convert this dataframe to an interactive table.\"\n",
              "              style=\"display:none;\">\n",
              "        \n",
              "  <svg xmlns=\"http://www.w3.org/2000/svg\" height=\"24px\"viewBox=\"0 0 24 24\"\n",
              "       width=\"24px\">\n",
              "    <path d=\"M0 0h24v24H0V0z\" fill=\"none\"/>\n",
              "    <path d=\"M18.56 5.44l.94 2.06.94-2.06 2.06-.94-2.06-.94-.94-2.06-.94 2.06-2.06.94zm-11 1L8.5 8.5l.94-2.06 2.06-.94-2.06-.94L8.5 2.5l-.94 2.06-2.06.94zm10 10l.94 2.06.94-2.06 2.06-.94-2.06-.94-.94-2.06-.94 2.06-2.06.94z\"/><path d=\"M17.41 7.96l-1.37-1.37c-.4-.4-.92-.59-1.43-.59-.52 0-1.04.2-1.43.59L10.3 9.45l-7.72 7.72c-.78.78-.78 2.05 0 2.83L4 21.41c.39.39.9.59 1.41.59.51 0 1.02-.2 1.41-.59l7.78-7.78 2.81-2.81c.8-.78.8-2.07 0-2.86zM5.41 20L4 18.59l7.72-7.72 1.47 1.35L5.41 20z\"/>\n",
              "  </svg>\n",
              "      </button>\n",
              "      \n",
              "  <style>\n",
              "    .colab-df-container {\n",
              "      display:flex;\n",
              "      flex-wrap:wrap;\n",
              "      gap: 12px;\n",
              "    }\n",
              "\n",
              "    .colab-df-convert {\n",
              "      background-color: #E8F0FE;\n",
              "      border: none;\n",
              "      border-radius: 50%;\n",
              "      cursor: pointer;\n",
              "      display: none;\n",
              "      fill: #1967D2;\n",
              "      height: 32px;\n",
              "      padding: 0 0 0 0;\n",
              "      width: 32px;\n",
              "    }\n",
              "\n",
              "    .colab-df-convert:hover {\n",
              "      background-color: #E2EBFA;\n",
              "      box-shadow: 0px 1px 2px rgba(60, 64, 67, 0.3), 0px 1px 3px 1px rgba(60, 64, 67, 0.15);\n",
              "      fill: #174EA6;\n",
              "    }\n",
              "\n",
              "    [theme=dark] .colab-df-convert {\n",
              "      background-color: #3B4455;\n",
              "      fill: #D2E3FC;\n",
              "    }\n",
              "\n",
              "    [theme=dark] .colab-df-convert:hover {\n",
              "      background-color: #434B5C;\n",
              "      box-shadow: 0px 1px 3px 1px rgba(0, 0, 0, 0.15);\n",
              "      filter: drop-shadow(0px 1px 2px rgba(0, 0, 0, 0.3));\n",
              "      fill: #FFFFFF;\n",
              "    }\n",
              "  </style>\n",
              "\n",
              "      <script>\n",
              "        const buttonEl =\n",
              "          document.querySelector('#df-870f1892-bbdd-471e-bbd7-6c6d6c994f75 button.colab-df-convert');\n",
              "        buttonEl.style.display =\n",
              "          google.colab.kernel.accessAllowed ? 'block' : 'none';\n",
              "\n",
              "        async function convertToInteractive(key) {\n",
              "          const element = document.querySelector('#df-870f1892-bbdd-471e-bbd7-6c6d6c994f75');\n",
              "          const dataTable =\n",
              "            await google.colab.kernel.invokeFunction('convertToInteractive',\n",
              "                                                     [key], {});\n",
              "          if (!dataTable) return;\n",
              "\n",
              "          const docLinkHtml = 'Like what you see? Visit the ' +\n",
              "            '<a target=\"_blank\" href=https://colab.research.google.com/notebooks/data_table.ipynb>data table notebook</a>'\n",
              "            + ' to learn more about interactive tables.';\n",
              "          element.innerHTML = '';\n",
              "          dataTable['output_type'] = 'display_data';\n",
              "          await google.colab.output.renderOutput(dataTable, element);\n",
              "          const docLink = document.createElement('div');\n",
              "          docLink.innerHTML = docLinkHtml;\n",
              "          element.appendChild(docLink);\n",
              "        }\n",
              "      </script>\n",
              "    </div>\n",
              "  </div>\n",
              "  "
            ],
            "text/plain": [
              "   Unnamed: 0     dob  photo_taken  ... second_face_score  date_of_birth age\n",
              "0           0  723671         2009  ...               NaN           1981  28\n",
              "1           2  711677         2008  ...               NaN           1948  60\n",
              "2           4  720044         2012  ...               NaN           1971  41\n",
              "3           5  716189         2012  ...               NaN           1960  52\n",
              "4           6  707745         1971  ...               NaN           1937  34\n",
              "\n",
              "[5 rows x 11 columns]"
            ]
          },
          "metadata": {},
          "execution_count": 6
        }
      ],
      "source": [
        "df.head()"
      ]
    },
    {
      "cell_type": "markdown",
      "metadata": {
        "id": "jhvX2slrZHbz"
      },
      "source": [
        "### 2.1 Modelo de predição de idade\n",
        "\n",
        "Antes de começarmos, avalie o conjunto de dados _Pandas_ e verifique se existe alguma otimização.\n",
        "Sugerimos verificar e filtrar somente sujeitos com idade maior do que 0 e menor do que 100.\n",
        "\n",
        "Analise o histograma e investigue com filtros do _Pandas_ para avaliar se existe necessidade de realização de algum _data cleasing_ no dataset, de acordo com a sugestão pedida.\n",
        "\n",
        "Havendo necessidade de _data cleasing_ realize os devidos ajustes."
      ]
    },
    {
      "cell_type": "markdown",
      "metadata": {
        "id": "opF3AtbiZHb0"
      },
      "source": [
        "Vamos investigar a distribuição de idades pelo histograma.\n",
        "Execute o comando abaixo."
      ]
    },
    {
      "cell_type": "code",
      "execution_count": 7,
      "metadata": {
        "id": "z8WOGbqZZHb0",
        "colab": {
          "base_uri": "https://localhost:8080/",
          "height": 347
        },
        "outputId": "fcf77099-8eb5-4845-8816-a71408b461ec"
      },
      "outputs": [
        {
          "output_type": "display_data",
          "data": {
            "image/png": "[encoded data removed]",
            "text/plain": [
              "<Figure size 576x396 with 1 Axes>"
            ]
          },
          "metadata": {}
        }
      ],
      "source": [
        "histograma_idade = df['age'].hist(bins=df['age'].nunique())"
      ]
    },
    {
      "cell_type": "markdown",
      "metadata": {
        "id": "Wv4CweUlZHb0"
      },
      "source": [
        "De acordo com os dados de idade, vamos buscar a existência de idades que não serão foco dos modelos, por exemplo, idades inferiores a 25 e superiores a 60."
      ]
    },
    {
      "cell_type": "code",
      "execution_count": 8,
      "metadata": {
        "id": "FAyrCULhZHb1",
        "colab": {
          "base_uri": "https://localhost:8080/",
          "height": 939
        },
        "outputId": "5a40f4c6-3fd6-43bc-8453-8ffb86713ee3"
      },
      "outputs": [
        {
          "output_type": "execute_result",
          "data": {
            "text/html": [
              "\n",
              "  <div id=\"df-ce8f7bb5-fc17-41c6-a4f3-ee58aab9ca43\">\n",
              "    <div class=\"colab-df-container\">\n",
              "      <div>\n",
              "<style scoped>\n",
              "    .dataframe tbody tr th:only-of-type {\n",
              "        vertical-align: middle;\n",
              "    }\n",
              "\n",
              "    .dataframe tbody tr th {\n",
              "        vertical-align: top;\n",
              "    }\n",
              "\n",
              "    .dataframe thead th {\n",
              "        text-align: right;\n",
              "    }\n",
              "</style>\n",
              "<table border=\"1\" class=\"dataframe\">\n",
              "  <thead>\n",
              "    <tr style=\"text-align: right;\">\n",
              "      <th></th>\n",
              "      <th>Unnamed: 0</th>\n",
              "      <th>dob</th>\n",
              "      <th>photo_taken</th>\n",
              "      <th>full_path</th>\n",
              "      <th>gender</th>\n",
              "      <th>name</th>\n",
              "      <th>face_location</th>\n",
              "      <th>face_score</th>\n",
              "      <th>second_face_score</th>\n",
              "      <th>date_of_birth</th>\n",
              "      <th>age</th>\n",
              "    </tr>\n",
              "  </thead>\n",
              "  <tbody>\n",
              "    <tr>\n",
              "      <th>7</th>\n",
              "      <td>12</td>\n",
              "      <td>725873</td>\n",
              "      <td>2010</td>\n",
              "      <td>['82/10004882_1987-05-16_2010.jpg']</td>\n",
              "      <td>1.0</td>\n",
              "      <td>['Viktor Pfeifer']</td>\n",
              "      <td>[[ 75.258  96.57  122.544 143.856]]</td>\n",
              "      <td>3.975478</td>\n",
              "      <td>NaN</td>\n",
              "      <td>1987</td>\n",
              "      <td>23</td>\n",
              "    </tr>\n",
              "    <tr>\n",
              "      <th>15</th>\n",
              "      <td>28</td>\n",
              "      <td>714561</td>\n",
              "      <td>1969</td>\n",
              "      <td>['45/10013345_1956-05-26_1969.jpg']</td>\n",
              "      <td>1.0</td>\n",
              "      <td>['Mehdi El Glaoui']</td>\n",
              "      <td>[[138.11816489 160.99119237 343.09541222 365.9...</td>\n",
              "      <td>4.598561</td>\n",
              "      <td>NaN</td>\n",
              "      <td>1956</td>\n",
              "      <td>13</td>\n",
              "    </tr>\n",
              "    <tr>\n",
              "      <th>19</th>\n",
              "      <td>36</td>\n",
              "      <td>726136</td>\n",
              "      <td>2012</td>\n",
              "      <td>['25/10016225_1988-02-03_2012.jpg']</td>\n",
              "      <td>1.0</td>\n",
              "      <td>['Gregory van der Wiel']</td>\n",
              "      <td>[[249.85666584 105.28608568 321.26795593 176.6...</td>\n",
              "      <td>3.097300</td>\n",
              "      <td>NaN</td>\n",
              "      <td>1988</td>\n",
              "      <td>24</td>\n",
              "    </tr>\n",
              "    <tr>\n",
              "      <th>43</th>\n",
              "      <td>110</td>\n",
              "      <td>727835</td>\n",
              "      <td>2010</td>\n",
              "      <td>['79/10055379_1992-09-28_2010.jpg']</td>\n",
              "      <td>1.0</td>\n",
              "      <td>['Keir Gilchrist']</td>\n",
              "      <td>[[ 61.24228141 121.60456282 331.99254776 392.3...</td>\n",
              "      <td>4.015771</td>\n",
              "      <td>NaN</td>\n",
              "      <td>1992</td>\n",
              "      <td>18</td>\n",
              "    </tr>\n",
              "    <tr>\n",
              "      <th>45</th>\n",
              "      <td>125</td>\n",
              "      <td>725376</td>\n",
              "      <td>2009</td>\n",
              "      <td>['03/10064003_1986-01-04_2009.jpg']</td>\n",
              "      <td>0.0</td>\n",
              "      <td>['Charlyne Yi']</td>\n",
              "      <td>[[192.95160331  75.5745124  288.10740496 170.7...</td>\n",
              "      <td>3.722847</td>\n",
              "      <td>NaN</td>\n",
              "      <td>1986</td>\n",
              "      <td>23</td>\n",
              "    </tr>\n",
              "    <tr>\n",
              "      <th>...</th>\n",
              "      <td>...</td>\n",
              "      <td>...</td>\n",
              "      <td>...</td>\n",
              "      <td>...</td>\n",
              "      <td>...</td>\n",
              "      <td>...</td>\n",
              "      <td>...</td>\n",
              "      <td>...</td>\n",
              "      <td>...</td>\n",
              "      <td>...</td>\n",
              "      <td>...</td>\n",
              "    </tr>\n",
              "    <tr>\n",
              "      <th>22107</th>\n",
              "      <td>62207</td>\n",
              "      <td>725752</td>\n",
              "      <td>2008</td>\n",
              "      <td>['54/4998554_1987-01-15_2008.jpg']</td>\n",
              "      <td>0.0</td>\n",
              "      <td>['Kelly Kelly']</td>\n",
              "      <td>[[ 29.04 169.84 281.6  422.4 ]]</td>\n",
              "      <td>3.881690</td>\n",
              "      <td>NaN</td>\n",
              "      <td>1987</td>\n",
              "      <td>21</td>\n",
              "    </tr>\n",
              "    <tr>\n",
              "      <th>22108</th>\n",
              "      <td>62208</td>\n",
              "      <td>712766</td>\n",
              "      <td>1971</td>\n",
              "      <td>['60/499860_1951-06-27_1971.jpg']</td>\n",
              "      <td>1.0</td>\n",
              "      <td>['Ulf Andersson']</td>\n",
              "      <td>[[151.78570353 151.78570353 286.7208367  286.7...</td>\n",
              "      <td>3.088425</td>\n",
              "      <td>NaN</td>\n",
              "      <td>1951</td>\n",
              "      <td>20</td>\n",
              "    </tr>\n",
              "    <tr>\n",
              "      <th>22131</th>\n",
              "      <td>62276</td>\n",
              "      <td>725506</td>\n",
              "      <td>2008</td>\n",
              "      <td>['86/7998386_1986-05-14_2008.jpg']</td>\n",
              "      <td>1.0</td>\n",
              "      <td>['Marco Motta']</td>\n",
              "      <td>[[ 92.85800375  43.13215558 156.28123712 106.5...</td>\n",
              "      <td>4.072333</td>\n",
              "      <td>NaN</td>\n",
              "      <td>1986</td>\n",
              "      <td>22</td>\n",
              "    </tr>\n",
              "    <tr>\n",
              "      <th>22141</th>\n",
              "      <td>62305</td>\n",
              "      <td>727636</td>\n",
              "      <td>2013</td>\n",
              "      <td>['02/9994102_1992-03-13_2013.jpg']</td>\n",
              "      <td>1.0</td>\n",
              "      <td>['George MacKay']</td>\n",
              "      <td>[[115.24513741 160.99119237 320.22238474 365.9...</td>\n",
              "      <td>5.978161</td>\n",
              "      <td>NaN</td>\n",
              "      <td>1992</td>\n",
              "      <td>21</td>\n",
              "    </tr>\n",
              "    <tr>\n",
              "      <th>22149</th>\n",
              "      <td>62318</td>\n",
              "      <td>708202</td>\n",
              "      <td>1962</td>\n",
              "      <td>['17/9996817_1938-12-28_1962.jpg']</td>\n",
              "      <td>1.0</td>\n",
              "      <td>['Pachín']</td>\n",
              "      <td>[[ 94.17 117.53 303.68 327.04]]</td>\n",
              "      <td>3.559782</td>\n",
              "      <td>NaN</td>\n",
              "      <td>1938</td>\n",
              "      <td>24</td>\n",
              "    </tr>\n",
              "  </tbody>\n",
              "</table>\n",
              "<p>4489 rows × 11 columns</p>\n",
              "</div>\n",
              "      <button class=\"colab-df-convert\" onclick=\"convertToInteractive('df-ce8f7bb5-fc17-41c6-a4f3-ee58aab9ca43')\"\n",
              "              title=\"Convert this dataframe to an interactive table.\"\n",
              "              style=\"display:none;\">\n",
              "        \n",
              "  <svg xmlns=\"http://www.w3.org/2000/svg\" height=\"24px\"viewBox=\"0 0 24 24\"\n",
              "       width=\"24px\">\n",
              "    <path d=\"M0 0h24v24H0V0z\" fill=\"none\"/>\n",
              "    <path d=\"M18.56 5.44l.94 2.06.94-2.06 2.06-.94-2.06-.94-.94-2.06-.94 2.06-2.06.94zm-11 1L8.5 8.5l.94-2.06 2.06-.94-2.06-.94L8.5 2.5l-.94 2.06-2.06.94zm10 10l.94 2.06.94-2.06 2.06-.94-2.06-.94-.94-2.06-.94 2.06-2.06.94z\"/><path d=\"M17.41 7.96l-1.37-1.37c-.4-.4-.92-.59-1.43-.59-.52 0-1.04.2-1.43.59L10.3 9.45l-7.72 7.72c-.78.78-.78 2.05 0 2.83L4 21.41c.39.39.9.59 1.41.59.51 0 1.02-.2 1.41-.59l7.78-7.78 2.81-2.81c.8-.78.8-2.07 0-2.86zM5.41 20L4 18.59l7.72-7.72 1.47 1.35L5.41 20z\"/>\n",
              "  </svg>\n",
              "      </button>\n",
              "      \n",
              "  <style>\n",
              "    .colab-df-container {\n",
              "      display:flex;\n",
              "      flex-wrap:wrap;\n",
              "      gap: 12px;\n",
              "    }\n",
              "\n",
              "    .colab-df-convert {\n",
              "      background-color: #E8F0FE;\n",
              "      border: none;\n",
              "      border-radius: 50%;\n",
              "      cursor: pointer;\n",
              "      display: none;\n",
              "      fill: #1967D2;\n",
              "      height: 32px;\n",
              "      padding: 0 0 0 0;\n",
              "      width: 32px;\n",
              "    }\n",
              "\n",
              "    .colab-df-convert:hover {\n",
              "      background-color: #E2EBFA;\n",
              "      box-shadow: 0px 1px 2px rgba(60, 64, 67, 0.3), 0px 1px 3px 1px rgba(60, 64, 67, 0.15);\n",
              "      fill: #174EA6;\n",
              "    }\n",
              "\n",
              "    [theme=dark] .colab-df-convert {\n",
              "      background-color: #3B4455;\n",
              "      fill: #D2E3FC;\n",
              "    }\n",
              "\n",
              "    [theme=dark] .colab-df-convert:hover {\n",
              "      background-color: #434B5C;\n",
              "      box-shadow: 0px 1px 3px 1px rgba(0, 0, 0, 0.15);\n",
              "      filter: drop-shadow(0px 1px 2px rgba(0, 0, 0, 0.3));\n",
              "      fill: #FFFFFF;\n",
              "    }\n",
              "  </style>\n",
              "\n",
              "      <script>\n",
              "        const buttonEl =\n",
              "          document.querySelector('#df-ce8f7bb5-fc17-41c6-a4f3-ee58aab9ca43 button.colab-df-convert');\n",
              "        buttonEl.style.display =\n",
              "          google.colab.kernel.accessAllowed ? 'block' : 'none';\n",
              "\n",
              "        async function convertToInteractive(key) {\n",
              "          const element = document.querySelector('#df-ce8f7bb5-fc17-41c6-a4f3-ee58aab9ca43');\n",
              "          const dataTable =\n",
              "            await google.colab.kernel.invokeFunction('convertToInteractive',\n",
              "                                                     [key], {});\n",
              "          if (!dataTable) return;\n",
              "\n",
              "          const docLinkHtml = 'Like what you see? Visit the ' +\n",
              "            '<a target=\"_blank\" href=https://colab.research.google.com/notebooks/data_table.ipynb>data table notebook</a>'\n",
              "            + ' to learn more about interactive tables.';\n",
              "          element.innerHTML = '';\n",
              "          dataTable['output_type'] = 'display_data';\n",
              "          await google.colab.output.renderOutput(dataTable, element);\n",
              "          const docLink = document.createElement('div');\n",
              "          docLink.innerHTML = docLinkHtml;\n",
              "          element.appendChild(docLink);\n",
              "        }\n",
              "      </script>\n",
              "    </div>\n",
              "  </div>\n",
              "  "
            ],
            "text/plain": [
              "       Unnamed: 0     dob  photo_taken  ... second_face_score  date_of_birth age\n",
              "7              12  725873         2010  ...               NaN           1987  23\n",
              "15             28  714561         1969  ...               NaN           1956  13\n",
              "19             36  726136         2012  ...               NaN           1988  24\n",
              "43            110  727835         2010  ...               NaN           1992  18\n",
              "45            125  725376         2009  ...               NaN           1986  23\n",
              "...           ...     ...          ...  ...               ...            ...  ..\n",
              "22107       62207  725752         2008  ...               NaN           1987  21\n",
              "22108       62208  712766         1971  ...               NaN           1951  20\n",
              "22131       62276  725506         2008  ...               NaN           1986  22\n",
              "22141       62305  727636         2013  ...               NaN           1992  21\n",
              "22149       62318  708202         1962  ...               NaN           1938  24\n",
              "\n",
              "[4489 rows x 11 columns]"
            ]
          },
          "metadata": {},
          "execution_count": 8
        }
      ],
      "source": [
        "df[df['age'] < 25]"
      ]
    },
    {
      "cell_type": "markdown",
      "metadata": {
        "id": "dlnnemnsZHb1"
      },
      "source": [
        "Agora idades maiores do que 100."
      ]
    },
    {
      "cell_type": "code",
      "execution_count": 9,
      "metadata": {
        "id": "5nDpPobuZHb2",
        "colab": {
          "base_uri": "https://localhost:8080/",
          "height": 991
        },
        "outputId": "5ac41cd4-c563-4c08-fafd-2a8953cca8b2"
      },
      "outputs": [
        {
          "output_type": "execute_result",
          "data": {
            "text/html": [
              "\n",
              "  <div id=\"df-38f1c073-4607-47ec-8a81-5b35288459d9\">\n",
              "    <div class=\"colab-df-container\">\n",
              "      <div>\n",
              "<style scoped>\n",
              "    .dataframe tbody tr th:only-of-type {\n",
              "        vertical-align: middle;\n",
              "    }\n",
              "\n",
              "    .dataframe tbody tr th {\n",
              "        vertical-align: top;\n",
              "    }\n",
              "\n",
              "    .dataframe thead th {\n",
              "        text-align: right;\n",
              "    }\n",
              "</style>\n",
              "<table border=\"1\" class=\"dataframe\">\n",
              "  <thead>\n",
              "    <tr style=\"text-align: right;\">\n",
              "      <th></th>\n",
              "      <th>Unnamed: 0</th>\n",
              "      <th>dob</th>\n",
              "      <th>photo_taken</th>\n",
              "      <th>full_path</th>\n",
              "      <th>gender</th>\n",
              "      <th>name</th>\n",
              "      <th>face_location</th>\n",
              "      <th>face_score</th>\n",
              "      <th>second_face_score</th>\n",
              "      <th>date_of_birth</th>\n",
              "      <th>age</th>\n",
              "    </tr>\n",
              "  </thead>\n",
              "  <tbody>\n",
              "    <tr>\n",
              "      <th>10</th>\n",
              "      <td>19</td>\n",
              "      <td>705106</td>\n",
              "      <td>2008</td>\n",
              "      <td>['81/1000781_1930-07-07_2008.jpg']</td>\n",
              "      <td>1.0</td>\n",
              "      <td>['Theodore Edgar McCarrick']</td>\n",
              "      <td>[[126.47169334  28.58548741 251.70738669 153.8...</td>\n",
              "      <td>3.680456</td>\n",
              "      <td>NaN</td>\n",
              "      <td>1930</td>\n",
              "      <td>78</td>\n",
              "    </tr>\n",
              "    <tr>\n",
              "      <th>28</th>\n",
              "      <td>65</td>\n",
              "      <td>710562</td>\n",
              "      <td>2012</td>\n",
              "      <td>['59/10033359_1945-06-14_2012.jpg']</td>\n",
              "      <td>1.0</td>\n",
              "      <td>['Bruce Degen']</td>\n",
              "      <td>[[123.45351931  98.93881545 343.20585407 318.6...</td>\n",
              "      <td>4.112618</td>\n",
              "      <td>NaN</td>\n",
              "      <td>1945</td>\n",
              "      <td>67</td>\n",
              "    </tr>\n",
              "    <tr>\n",
              "      <th>38</th>\n",
              "      <td>101</td>\n",
              "      <td>690933</td>\n",
              "      <td>1958</td>\n",
              "      <td>['00/10049200_1891-09-16_1958.jpg']</td>\n",
              "      <td>0.0</td>\n",
              "      <td>['Isabel Jeans']</td>\n",
              "      <td>[[126.86918793 111.11053944 267.89702434 252.1...</td>\n",
              "      <td>5.254819</td>\n",
              "      <td>NaN</td>\n",
              "      <td>1891</td>\n",
              "      <td>67</td>\n",
              "    </tr>\n",
              "    <tr>\n",
              "      <th>39</th>\n",
              "      <td>104</td>\n",
              "      <td>707724</td>\n",
              "      <td>2010</td>\n",
              "      <td>['79/1005079_1937-09-06_2010.jpg']</td>\n",
              "      <td>0.0</td>\n",
              "      <td>['Jo Anne Worley']</td>\n",
              "      <td>[[ 85.14 106.26 274.56 295.68]]</td>\n",
              "      <td>3.334351</td>\n",
              "      <td>NaN</td>\n",
              "      <td>1937</td>\n",
              "      <td>73</td>\n",
              "    </tr>\n",
              "    <tr>\n",
              "      <th>50</th>\n",
              "      <td>136</td>\n",
              "      <td>706891</td>\n",
              "      <td>2005</td>\n",
              "      <td>['92/1007192_1935-05-27_2005.jpg']</td>\n",
              "      <td>0.0</td>\n",
              "      <td>['Lee Meriwether']</td>\n",
              "      <td>[[176.72563637  40.67491736 248.09248761 112.0...</td>\n",
              "      <td>3.706718</td>\n",
              "      <td>NaN</td>\n",
              "      <td>1935</td>\n",
              "      <td>70</td>\n",
              "    </tr>\n",
              "    <tr>\n",
              "      <th>...</th>\n",
              "      <td>...</td>\n",
              "      <td>...</td>\n",
              "      <td>...</td>\n",
              "      <td>...</td>\n",
              "      <td>...</td>\n",
              "      <td>...</td>\n",
              "      <td>...</td>\n",
              "      <td>...</td>\n",
              "      <td>...</td>\n",
              "      <td>...</td>\n",
              "      <td>...</td>\n",
              "    </tr>\n",
              "    <tr>\n",
              "      <th>22120</th>\n",
              "      <td>62249</td>\n",
              "      <td>704118</td>\n",
              "      <td>2013</td>\n",
              "      <td>['07/699407_1927-10-23_2013.jpg']</td>\n",
              "      <td>1.0</td>\n",
              "      <td>['Barron Hilton']</td>\n",
              "      <td>[[ 98.93881545 147.96822317 318.69115021 367.7...</td>\n",
              "      <td>3.629797</td>\n",
              "      <td>NaN</td>\n",
              "      <td>1927</td>\n",
              "      <td>86</td>\n",
              "    </tr>\n",
              "    <tr>\n",
              "      <th>22124</th>\n",
              "      <td>62262</td>\n",
              "      <td>710677</td>\n",
              "      <td>2011</td>\n",
              "      <td>['46/7991846_1945-10-07_2011.jpg']</td>\n",
              "      <td>1.0</td>\n",
              "      <td>['Jean-Luc Thérier']</td>\n",
              "      <td>[[ 57.38109083  49.23522072 130.33392191 122.1...</td>\n",
              "      <td>4.203977</td>\n",
              "      <td>NaN</td>\n",
              "      <td>1945</td>\n",
              "      <td>66</td>\n",
              "    </tr>\n",
              "    <tr>\n",
              "      <th>22133</th>\n",
              "      <td>62281</td>\n",
              "      <td>712547</td>\n",
              "      <td>2011</td>\n",
              "      <td>['55/7999955_1950-11-20_2011.jpg']</td>\n",
              "      <td>1.0</td>\n",
              "      <td>['Rudy Jaramillo']</td>\n",
              "      <td>[[112.2304721   67.65828326 312.00532189 267.4...</td>\n",
              "      <td>3.411976</td>\n",
              "      <td>NaN</td>\n",
              "      <td>1950</td>\n",
              "      <td>61</td>\n",
              "    </tr>\n",
              "    <tr>\n",
              "      <th>22145</th>\n",
              "      <td>62312</td>\n",
              "      <td>704906</td>\n",
              "      <td>2008</td>\n",
              "      <td>['83/9996683_1929-12-19_2008.jpg']</td>\n",
              "      <td>1.0</td>\n",
              "      <td>['Gianfranco Bedin']</td>\n",
              "      <td>[[ 41.17331311 102.15928277 223.61522208 284.6...</td>\n",
              "      <td>3.245726</td>\n",
              "      <td>NaN</td>\n",
              "      <td>1929</td>\n",
              "      <td>79</td>\n",
              "    </tr>\n",
              "    <tr>\n",
              "      <th>22146</th>\n",
              "      <td>62313</td>\n",
              "      <td>706289</td>\n",
              "      <td>2008</td>\n",
              "      <td>['63/9996763_1933-10-02_2008.jpg']</td>\n",
              "      <td>1.0</td>\n",
              "      <td>['Giuliano Sarti']</td>\n",
              "      <td>[[ 53.39958974  88.65664956 211.54235894 246.7...</td>\n",
              "      <td>4.047994</td>\n",
              "      <td>NaN</td>\n",
              "      <td>1933</td>\n",
              "      <td>75</td>\n",
              "    </tr>\n",
              "  </tbody>\n",
              "</table>\n",
              "<p>2384 rows × 11 columns</p>\n",
              "</div>\n",
              "      <button class=\"colab-df-convert\" onclick=\"convertToInteractive('df-38f1c073-4607-47ec-8a81-5b35288459d9')\"\n",
              "              title=\"Convert this dataframe to an interactive table.\"\n",
              "              style=\"display:none;\">\n",
              "        \n",
              "  <svg xmlns=\"http://www.w3.org/2000/svg\" height=\"24px\"viewBox=\"0 0 24 24\"\n",
              "       width=\"24px\">\n",
              "    <path d=\"M0 0h24v24H0V0z\" fill=\"none\"/>\n",
              "    <path d=\"M18.56 5.44l.94 2.06.94-2.06 2.06-.94-2.06-.94-.94-2.06-.94 2.06-2.06.94zm-11 1L8.5 8.5l.94-2.06 2.06-.94-2.06-.94L8.5 2.5l-.94 2.06-2.06.94zm10 10l.94 2.06.94-2.06 2.06-.94-2.06-.94-.94-2.06-.94 2.06-2.06.94z\"/><path d=\"M17.41 7.96l-1.37-1.37c-.4-.4-.92-.59-1.43-.59-.52 0-1.04.2-1.43.59L10.3 9.45l-7.72 7.72c-.78.78-.78 2.05 0 2.83L4 21.41c.39.39.9.59 1.41.59.51 0 1.02-.2 1.41-.59l7.78-7.78 2.81-2.81c.8-.78.8-2.07 0-2.86zM5.41 20L4 18.59l7.72-7.72 1.47 1.35L5.41 20z\"/>\n",
              "  </svg>\n",
              "      </button>\n",
              "      \n",
              "  <style>\n",
              "    .colab-df-container {\n",
              "      display:flex;\n",
              "      flex-wrap:wrap;\n",
              "      gap: 12px;\n",
              "    }\n",
              "\n",
              "    .colab-df-convert {\n",
              "      background-color: #E8F0FE;\n",
              "      border: none;\n",
              "      border-radius: 50%;\n",
              "      cursor: pointer;\n",
              "      display: none;\n",
              "      fill: #1967D2;\n",
              "      height: 32px;\n",
              "      padding: 0 0 0 0;\n",
              "      width: 32px;\n",
              "    }\n",
              "\n",
              "    .colab-df-convert:hover {\n",
              "      background-color: #E2EBFA;\n",
              "      box-shadow: 0px 1px 2px rgba(60, 64, 67, 0.3), 0px 1px 3px 1px rgba(60, 64, 67, 0.15);\n",
              "      fill: #174EA6;\n",
              "    }\n",
              "\n",
              "    [theme=dark] .colab-df-convert {\n",
              "      background-color: #3B4455;\n",
              "      fill: #D2E3FC;\n",
              "    }\n",
              "\n",
              "    [theme=dark] .colab-df-convert:hover {\n",
              "      background-color: #434B5C;\n",
              "      box-shadow: 0px 1px 3px 1px rgba(0, 0, 0, 0.15);\n",
              "      filter: drop-shadow(0px 1px 2px rgba(0, 0, 0, 0.3));\n",
              "      fill: #FFFFFF;\n",
              "    }\n",
              "  </style>\n",
              "\n",
              "      <script>\n",
              "        const buttonEl =\n",
              "          document.querySelector('#df-38f1c073-4607-47ec-8a81-5b35288459d9 button.colab-df-convert');\n",
              "        buttonEl.style.display =\n",
              "          google.colab.kernel.accessAllowed ? 'block' : 'none';\n",
              "\n",
              "        async function convertToInteractive(key) {\n",
              "          const element = document.querySelector('#df-38f1c073-4607-47ec-8a81-5b35288459d9');\n",
              "          const dataTable =\n",
              "            await google.colab.kernel.invokeFunction('convertToInteractive',\n",
              "                                                     [key], {});\n",
              "          if (!dataTable) return;\n",
              "\n",
              "          const docLinkHtml = 'Like what you see? Visit the ' +\n",
              "            '<a target=\"_blank\" href=https://colab.research.google.com/notebooks/data_table.ipynb>data table notebook</a>'\n",
              "            + ' to learn more about interactive tables.';\n",
              "          element.innerHTML = '';\n",
              "          dataTable['output_type'] = 'display_data';\n",
              "          await google.colab.output.renderOutput(dataTable, element);\n",
              "          const docLink = document.createElement('div');\n",
              "          docLink.innerHTML = docLinkHtml;\n",
              "          element.appendChild(docLink);\n",
              "        }\n",
              "      </script>\n",
              "    </div>\n",
              "  </div>\n",
              "  "
            ],
            "text/plain": [
              "       Unnamed: 0     dob  photo_taken  ... second_face_score  date_of_birth age\n",
              "10             19  705106         2008  ...               NaN           1930  78\n",
              "28             65  710562         2012  ...               NaN           1945  67\n",
              "38            101  690933         1958  ...               NaN           1891  67\n",
              "39            104  707724         2010  ...               NaN           1937  73\n",
              "50            136  706891         2005  ...               NaN           1935  70\n",
              "...           ...     ...          ...  ...               ...            ...  ..\n",
              "22120       62249  704118         2013  ...               NaN           1927  86\n",
              "22124       62262  710677         2011  ...               NaN           1945  66\n",
              "22133       62281  712547         2011  ...               NaN           1950  61\n",
              "22145       62312  704906         2008  ...               NaN           1929  79\n",
              "22146       62313  706289         2008  ...               NaN           1933  75\n",
              "\n",
              "[2384 rows x 11 columns]"
            ]
          },
          "metadata": {},
          "execution_count": 9
        }
      ],
      "source": [
        "df[df['age'] > 60]"
      ]
    },
    {
      "cell_type": "markdown",
      "metadata": {
        "id": "d8cMjpcJZHb2"
      },
      "source": [
        "Diante dos dados apresentados, realize a limpeza dos registros com idades inválidas ou de não interesse do projeto.\n",
        "Para realizar a limpeza utilize da seguinte forma:\n",
        "\n",
        "```python\n",
        "df = df[df['age'] <= idade_limite_superior]\n",
        "df = df[df['age'] > idade_limite_inferior]\n",
        "```"
      ]
    },
    {
      "cell_type": "markdown",
      "metadata": {
        "id": "u2C9E9EAZHb2"
      },
      "source": [
        "Agora implemente a limpeza dos dados."
      ]
    },
    {
      "cell_type": "code",
      "execution_count": 10,
      "metadata": {
        "id": "sWyEq-YfZHb3"
      },
      "outputs": [],
      "source": [
        "df = df[df['age'] <= 60]\n",
        "df = df[df['age'] > 24]"
      ]
    },
    {
      "cell_type": "markdown",
      "metadata": {
        "id": "oIP3pc_SZHb3"
      },
      "source": [
        "Vamos executar novamente os comandos abaixo para ter certeza que os dados foram limpos."
      ]
    },
    {
      "cell_type": "code",
      "execution_count": 11,
      "metadata": {
        "id": "qJQcu1hVZHb3",
        "colab": {
          "base_uri": "https://localhost:8080/"
        },
        "outputId": "9226bfe4-cfbf-4490-b134-6343a19b6b8f"
      },
      "outputs": [
        {
          "output_type": "execute_result",
          "data": {
            "text/plain": [
              "(0, 0)"
            ]
          },
          "metadata": {},
          "execution_count": 11
        }
      ],
      "source": [
        "len(df[df['age'] > 60]), len(df[df['age'] < 25])"
      ]
    },
    {
      "cell_type": "markdown",
      "metadata": {
        "id": "6SYsj_iOZHb3"
      },
      "source": [
        "Se o resultado obtido foi 0 para ambos os filtros (exemplo (0,0)) signfica que estamos prontos para avançar."
      ]
    },
    {
      "cell_type": "markdown",
      "metadata": {
        "id": "kwBRqLvbZHb3"
      },
      "source": [
        "### 2.2 Transfer learning\n",
        "\n",
        "A técnica de _transfer learning_ é particularmente útil ao combinar modelos já validados em aplicações mais robustas, resultado de competições de grande porte.\n",
        "\n",
        "Um benchmark nesse campo aplicado a faces é o [VGGFace](http://www.robots.ox.ac.uk/~vgg/data/vgg_face) do grupo *VGG*, o Visual Geometry Group da Univerdade de Oxford.\n",
        "\n",
        "A arquitetura proposta pelo VGGFace é capaz de classificar faces com precisão acima de 90% em alguns trabalhos, como por exemplo [Zhang, Lingfeng & Kakadiaris, Ioannis. (2017). Local classifier chains for deep face recognition. 158-167](https://www.researchgate.net/publication/322872468_Local_classifier_chains_for_deep_face_recognition).\n",
        "\n",
        "Este modelo tem a seguinte arquitetura.\n",
        "\n",
        "<p align=\"center\">\n",
        "<img src=\"https://github.com/michelpf/fiap-ml-visao-computacional-capstone/blob/master/projeto/imagens-aux/vgg-face-architecture.jpg?raw=1\">\n",
        "</p>\n",
        "\n",
        "Observando a primeira camada, precisamos portanto padronizar as imagens de treinamento no tamanho 224 x 224 (comprimento x largura).\n",
        "\n",
        "Os grupos que decidirem criar modelos alternativos devem explicar qual arquitetura utiliza e seus motivadores."
      ]
    },
    {
      "cell_type": "markdown",
      "metadata": {
        "id": "SSx4-wNSZHb4"
      },
      "source": [
        "### 2.3 Padronização de imagens\n",
        "\n",
        "O algoritmo abaixo normaliza as imagens para o tamanho de entrada do modelo VGGFace e também converte o valor em intenside de pixel de 0 a 255 para 0 a 1, com valores em pontos flutuantes.\n",
        "\n",
        "Valores em ponto flutuante são melhores para se trabalhar com convergência de modelos durante os cálculos entre as camadas das redes neurais."
      ]
    },
    {
      "cell_type": "markdown",
      "metadata": {
        "id": "wrqLZ5ESZHb4"
      },
      "source": [
        "> Atenção: para melhor controlar a quantidade de memória, opte por incluir mais ou menos imagens por classe. Abaixo a variável ```qtde_imagens_classe``` regula isso. Ambientes limitados do Colab a recomendação é no máximo 200. Fique a vontade para inclui mais, pois quanto maior o número de imagens, mais preciso é o modelo. Cada classe possui cerca de 600 imagens."
      ]
    },
    {
      "cell_type": "code",
      "execution_count": 12,
      "metadata": {
        "id": "RGSuW4yyZHb4"
      },
      "outputs": [],
      "source": [
        "qtde_imagens_classe = 200"
      ]
    },
    {
      "cell_type": "code",
      "execution_count": 13,
      "metadata": {
        "id": "g3uOBLW5ZHb4"
      },
      "outputs": [],
      "source": [
        "def carregar_imagens_faces():\n",
        "\n",
        "  tamanho_imagem = (224, 224)\n",
        "  faces = []\n",
        "  idades = []\n",
        "  generos = []\n",
        "  faces_ages = {}\n",
        "\n",
        "  for index, row in tqdm(df.iterrows()):\n",
        "    if row[\"age\"] in faces_ages:\n",
        "      faces_ages[row[\"age\"]] += 1\n",
        "    else:\n",
        "      faces_ages[row[\"age\"]] = 1\n",
        "\n",
        "    if faces_ages[row[\"age\"]] > qtde_imagens_classe:\n",
        "      continue\n",
        "    else:\n",
        "      idades.append(row[\"age\"])\n",
        "      generos.append(row[\"gender\"])\n",
        "\n",
        "      image_face = image.load_img(\"imagens/%s\" % ast.literal_eval(row[\"full_path\"])[0], grayscale=False, target_size=tamanho_imagem)\n",
        "      image_array = image.img_to_array(image_face).reshape(1, -1)[0]\n",
        "      image_array /= 255\n",
        "      faces.append(image_array)\n",
        "\n",
        "  return faces, idades, generos"
      ]
    },
    {
      "cell_type": "markdown",
      "metadata": {
        "id": "VH18UXVyZHb5"
      },
      "source": [
        "Verifique a quantidade de imagens de faces obtidas pelo conjunto de dados."
      ]
    },
    {
      "cell_type": "code",
      "execution_count": 14,
      "metadata": {
        "id": "yo0XmTAIZHb5",
        "colab": {
          "base_uri": "https://localhost:8080/"
        },
        "outputId": "1fc9f0fe-1f86-4844-fcc4-ba77d0be2ce7"
      },
      "outputs": [
        {
          "output_type": "stream",
          "name": "stderr",
          "text": [
            "15282it [00:30, 498.66it/s] \n"
          ]
        }
      ],
      "source": [
        "# IMPLEMENTAR\n",
        "qtd_faces = carregar_imagens_faces()\n",
        "qtd_faces = len(qtd_faces[1])"
      ]
    },
    {
      "cell_type": "code",
      "execution_count": 16,
      "metadata": {
        "id": "dX9m6q8KZHb5",
        "colab": {
          "base_uri": "https://localhost:8080/"
        },
        "outputId": "8e4747ef-f249-4062-9d28-3818fe6b3066"
      },
      "outputs": [
        {
          "output_type": "stream",
          "name": "stdout",
          "text": [
            "O total de faces de imagens é de 7196.\n"
          ]
        }
      ],
      "source": [
        "print(\"O total de faces de imagens é de \" + str(qtd_faces) + \".\")\n"
      ]
    },
    {
      "cell_type": "markdown",
      "metadata": {
        "id": "dLzuEb_fZHb5"
      },
      "source": [
        "### 2.4 Definição do modelo\n",
        "\n",
        "O próximo passo é a definição do número de classes. Como a definição de classes é _zero based_ sempre defina adicionando 1 ao valor final.\n",
        "\n",
        "Exemplo, se o número de classes compreender entre idades maior do que 0 e menor ou igual a 100, teremos 100 classes, logo o número de classes de idade é 101.\n",
        "\n",
        "**Mesmo utilizando somente uma faixa das idades entre 0 100, os índices de cada uma delas serão utilizadas para acessar os labels, portanto podemos considerar o número de classes com 101, mesmo tendo classes sem exemplos, elas não iriam ativiar as camadas subsequentes.**"
      ]
    },
    {
      "cell_type": "code",
      "execution_count": 19,
      "metadata": {
        "id": "XhXZYDAIZHb6"
      },
      "outputs": [],
      "source": [
        "# IMPLEMENTAR\n",
        "classes_idade = 101"
      ]
    },
    {
      "cell_type": "markdown",
      "metadata": {
        "id": "ZqdgM2dbZHb6"
      },
      "source": [
        "Uma forma de categorizarmos as classes é utilizando o modelo _one hot encode_. Onde será expressado em um array com todas as classes. A classe correspondente a um determindo registro será armazenado como o valor 1 naquela classe."
      ]
    },
    {
      "cell_type": "code",
      "execution_count": 20,
      "metadata": {
        "id": "dH38-SwpZHb6",
        "colab": {
          "base_uri": "https://localhost:8080/"
        },
        "outputId": "92cb9aa5-4528-42dc-ada7-fd7254bdff64"
      },
      "outputs": [
        {
          "output_type": "stream",
          "name": "stderr",
          "text": [
            "15282it [00:26, 576.96it/s] \n"
          ]
        }
      ],
      "source": [
        "faces, idades, _ = carregar_imagens_faces()\n",
        "\n",
        "idades_classes = keras.utils.to_categorical(idades, classes_idade)"
      ]
    },
    {
      "cell_type": "markdown",
      "metadata": {
        "id": "6h2zfni7ZHb6"
      },
      "source": [
        "Faça um teste do _one hot encoding_. Exiba os dados do registro de índice zero do conjunto de dados."
      ]
    },
    {
      "cell_type": "code",
      "execution_count": 21,
      "metadata": {
        "id": "_zqb6GXdZHb7",
        "colab": {
          "base_uri": "https://localhost:8080/"
        },
        "outputId": "b0f15fe6-0a64-420d-a58d-f86fd60f070e"
      },
      "outputs": [
        {
          "output_type": "execute_result",
          "data": {
            "text/plain": [
              "array([0., 0., 0., 0., 0., 0., 0., 0., 0., 0., 0., 0., 0., 0., 0., 0., 0.,\n",
              "       0., 0., 0., 0., 0., 0., 0., 0., 0., 0., 0., 1., 0., 0., 0., 0., 0.,\n",
              "       0., 0., 0., 0., 0., 0., 0., 0., 0., 0., 0., 0., 0., 0., 0., 0., 0.,\n",
              "       0., 0., 0., 0., 0., 0., 0., 0., 0., 0., 0., 0., 0., 0., 0., 0., 0.,\n",
              "       0., 0., 0., 0., 0., 0., 0., 0., 0., 0., 0., 0., 0., 0., 0., 0., 0.,\n",
              "       0., 0., 0., 0., 0., 0., 0., 0., 0., 0., 0., 0., 0., 0., 0., 0.],\n",
              "      dtype=float32)"
            ]
          },
          "metadata": {},
          "execution_count": 21
        }
      ],
      "source": [
        "idades_classes[0]"
      ]
    },
    {
      "cell_type": "markdown",
      "metadata": {
        "id": "5r81FxrxZHb7"
      },
      "source": [
        "Em seguida, vamos adaptar o _shape_ dos dados no padrão que o framework Keras utiliza."
      ]
    },
    {
      "cell_type": "code",
      "execution_count": 22,
      "metadata": {
        "id": "C89PFPkqZHb7"
      },
      "outputs": [],
      "source": [
        "features_imagem = []\n",
        "\n",
        "features_imagem = np.array(faces)\n",
        "features_imagem = features_imagem.reshape(features_imagem.shape[0], 224, 224, 3)"
      ]
    },
    {
      "cell_type": "markdown",
      "metadata": {
        "id": "ytHXbGsiZHb7"
      },
      "source": [
        "Para liberar o uso de memória, vamos eliminando variáveis que não mais finalidade."
      ]
    },
    {
      "cell_type": "code",
      "execution_count": 23,
      "metadata": {
        "id": "7SwcpMA2ZHb7"
      },
      "outputs": [],
      "source": [
        "faces = None"
      ]
    },
    {
      "cell_type": "markdown",
      "metadata": {
        "id": "JAex6MJ8ZHb7"
      },
      "source": [
        "### 2.5 Separação de dados de treinamento e validação\n",
        "\n",
        "Para que o modelo seja robusto, é importante validar um subconjunto de amostras que não participaram do treinamento inicial.\n",
        "\n",
        "Defina uma porcentagem, da base total, que deverá ser separa somente para a validação. Expresse o número na forma de número fracionário, por exemplo 40% equivale a 0.4."
      ]
    },
    {
      "cell_type": "code",
      "execution_count": null,
      "metadata": {
        "id": "NuHNPcd0ZHb7"
      },
      "outputs": [],
      "source": [
        "# IMPLEMENTAR\n",
        "porcentagem_validacao = None"
      ]
    },
    {
      "cell_type": "markdown",
      "metadata": {
        "id": "z1M_ZJuMZHb8"
      },
      "source": [
        "Execute o método ```train_test_split``` para realizar a divisão de cada tipo de amostra, sendo:\n",
        "* ```treinamento_x``` contém os _features_ de treinamento\n",
        "* ```teste_x``` contém os _features_ de validação (também é chamado de teste)\n",
        "* ```treinamento_y``` contém as classes de treinamento\n",
        "* ```teste_y``` contém as classes de validação"
      ]
    },
    {
      "cell_type": "code",
      "execution_count": null,
      "metadata": {
        "id": "OsKDtTtrZHb8"
      },
      "outputs": [],
      "source": [
        "treinamento_x, teste_x, treinamento_y, teste_y = train_test_split(features_imagem, \n",
        "                                                                  idades_classes, \n",
        "                                                                  test_size=porcentagem_validacao)"
      ]
    },
    {
      "cell_type": "markdown",
      "metadata": {
        "id": "iKa7_3KrZHb8"
      },
      "source": [
        "Liberando memória pois a variável ```features_imagem``` neste ponto não será mais utilizada."
      ]
    },
    {
      "cell_type": "code",
      "execution_count": null,
      "metadata": {
        "id": "KZ1SQ2KRZHb8"
      },
      "outputs": [],
      "source": [
        "features_imagem = None"
      ]
    },
    {
      "cell_type": "markdown",
      "metadata": {
        "id": "bkDaRTuzZHb8"
      },
      "source": [
        "### 2.6 Treinamento e validação\n",
        "\n",
        "O modelo VGGFace ainda não está por padrão na biblioteca Keras. Mesmo assim, como o artigo citado anteriormente possui a arquitetura definida, podemos implementá-la manualmente."
      ]
    },
    {
      "cell_type": "code",
      "execution_count": null,
      "metadata": {
        "id": "OpgcdQ8iZHb8"
      },
      "outputs": [],
      "source": [
        "#VGG-Face model\n",
        "modelo = Sequential()\n",
        "modelo.add(ZeroPadding2D((1,1),input_shape=(224,224, 3)))\n",
        "modelo.add(Convolution2D(64, (3, 3), activation='relu'))\n",
        "modelo.add(ZeroPadding2D((1,1)))\n",
        "modelo.add(Convolution2D(64, (3, 3), activation='relu'))\n",
        "modelo.add(MaxPooling2D((2,2), strides=(2,2)))\n",
        " \n",
        "modelo.add(ZeroPadding2D((1,1)))\n",
        "modelo.add(Convolution2D(128, (3, 3), activation='relu'))\n",
        "modelo.add(ZeroPadding2D((1,1)))\n",
        "modelo.add(Convolution2D(128, (3, 3), activation='relu'))\n",
        "modelo.add(MaxPooling2D((2,2), strides=(2,2)))\n",
        " \n",
        "modelo.add(ZeroPadding2D((1,1)))\n",
        "modelo.add(Convolution2D(256, (3, 3), activation='relu'))\n",
        "modelo.add(ZeroPadding2D((1,1)))\n",
        "modelo.add(Convolution2D(256, (3, 3), activation='relu'))\n",
        "modelo.add(ZeroPadding2D((1,1)))\n",
        "modelo.add(Convolution2D(256, (3, 3), activation='relu'))\n",
        "modelo.add(MaxPooling2D((2,2), strides=(2,2)))\n",
        " \n",
        "modelo.add(ZeroPadding2D((1,1)))\n",
        "modelo.add(Convolution2D(512, (3, 3), activation='relu'))\n",
        "modelo.add(ZeroPadding2D((1,1)))\n",
        "modelo.add(Convolution2D(512, (3, 3), activation='relu'))\n",
        "modelo.add(ZeroPadding2D((1,1)))\n",
        "modelo.add(Convolution2D(512, (3, 3), activation='relu'))\n",
        "modelo.add(MaxPooling2D((2,2), strides=(2,2)))\n",
        " \n",
        "modelo.add(ZeroPadding2D((1,1)))\n",
        "modelo.add(Convolution2D(512, (3, 3), activation='relu'))\n",
        "modelo.add(ZeroPadding2D((1,1)))\n",
        "modelo.add(Convolution2D(512, (3, 3), activation='relu'))\n",
        "modelo.add(ZeroPadding2D((1,1)))\n",
        "modelo.add(Convolution2D(512, (3, 3), activation='relu'))\n",
        "modelo.add(MaxPooling2D((2,2), strides=(2,2)))\n",
        " \n",
        "modelo.add(Convolution2D(4096, (7, 7), activation='relu'))\n",
        "modelo.add(Dropout(0.5))\n",
        "modelo.add(Convolution2D(4096, (1, 1), activation='relu'))\n",
        "modelo.add(Dropout(0.5))\n",
        "modelo.add(Convolution2D(2622, (1, 1)))\n",
        "modelo.add(Flatten())\n",
        "modelo.add(Activation('softmax'))"
      ]
    },
    {
      "cell_type": "markdown",
      "metadata": {
        "id": "No_zyVNcZHb9"
      },
      "source": [
        "Os pesos já treinamentos podem ser baixados neste [link](https://drive.google.com/open?id=1xJY1mWULLOnK5GAGULcp_cgasVfy-e2j). Copie ele para a pasta ```pesos```.\n",
        "O arquivo de pesos é o mesmo utilizado neste [artigo](https://sefiks.com/2019/02/13/apparent-age-and-gender-prediction-in-keras)."
      ]
    },
    {
      "cell_type": "code",
      "execution_count": null,
      "metadata": {
        "id": "rZQdK8bcZHb9"
      },
      "outputs": [],
      "source": [
        "modelo.load_weights(\"pesos/vgg_face_weights.h5\")"
      ]
    },
    {
      "cell_type": "markdown",
      "metadata": {
        "id": "wgeGdOvNZHb-"
      },
      "source": [
        "Assim como em qualquer modelo de *transfer learning*, precisamos adicionar na última camada as classes correspondentes. Deste modo, na saída da camada convulacional precisamos definir o número de classes. É o primeiro parâmetro do objeto ```Convolution2D```, neste caso incluíremos a variável que determina o número de classes ```classes_idade```."
      ]
    },
    {
      "cell_type": "code",
      "execution_count": null,
      "metadata": {
        "id": "7YK93kntZHb_"
      },
      "outputs": [],
      "source": [
        "for layer in modelo.layers[:-7]:\n",
        "    layer.trainable = False\n",
        "\n",
        "saida_modelo = Sequential()\n",
        "\n",
        "saida_modelo = Convolution2D(classes_idade, (1, 1), name='predictions')(modelo.layers[-4].output)\n",
        "\n",
        "saida_modelo = Flatten()(saida_modelo)\n",
        "saida_modelo = Activation('softmax')(saida_modelo)\n",
        "modelo_idade = Model(inputs=modelo.input, outputs=saida_modelo)"
      ]
    },
    {
      "cell_type": "markdown",
      "metadata": {
        "id": "gYGWBNxaZHb_"
      },
      "source": [
        "Este tipo de treinamento possui muitas imagens. A etapa de treinamento pode demorar até mesmo mais do que 2 horas dependendo do tipo de computador utilizado.\n",
        "\n",
        "Apesar da demora, este desafio traz um desafio real de treinar um modelo de imagens com quantidade de exemplos adequado para as classificações requeridas.\n",
        "\n",
        "Sugiro que após o treinamento ser realizado, salvar os novos pesos e a rede para utilizar mais adiante nas inferências.\n",
        "\n",
        "Revise a arquitetura da rede com o comando a seguir."
      ]
    },
    {
      "cell_type": "code",
      "execution_count": null,
      "metadata": {
        "id": "oQSNijtKZHcA"
      },
      "outputs": [],
      "source": [
        "modelo_idade.summary()"
      ]
    },
    {
      "cell_type": "markdown",
      "metadata": {
        "id": "DYFR2p1MZHcA"
      },
      "source": [
        "O número de *épocas* é responsável por quantas vezes o modelo percorrerá o ciclo de _foward_ e _back_ _propagation_.\n",
        "\n",
        "Como este modelo possui muitas imagens, sugerimos um valor mínimo de 2 épocas."
      ]
    },
    {
      "cell_type": "code",
      "execution_count": null,
      "metadata": {
        "id": "mjSHh3KAZHcA"
      },
      "outputs": [],
      "source": [
        "# IMPLEMENTAR\n",
        "numero_epocas = None"
      ]
    },
    {
      "cell_type": "markdown",
      "metadata": {
        "id": "HP51ntSwZHcA"
      },
      "source": [
        "*Caso o modelo trave no treinamento, experimente diminuir o ```batch_size```.*"
      ]
    },
    {
      "cell_type": "code",
      "execution_count": null,
      "metadata": {
        "id": "14iXKzcCZHcA"
      },
      "outputs": [],
      "source": [
        "modelo_idade.compile(optimizer='adam', loss='categorical_crossentropy', metrics=['accuracy'])\n",
        "historico = modelo_idade.fit(x=treinamento_x, y=treinamento_y, \n",
        "                             validation_data=(teste_x, teste_y), epochs=numero_epocas, batch_size=32)"
      ]
    },
    {
      "cell_type": "markdown",
      "metadata": {
        "id": "xcK2ztaMZHcB"
      },
      "source": [
        "Armazene os valores do modelo e dos pesos para inferências futuras."
      ]
    },
    {
      "cell_type": "code",
      "execution_count": null,
      "metadata": {
        "id": "D5AqNWepZHcB"
      },
      "outputs": [],
      "source": [
        "# Salvando o modelo no formato HDf5\n",
        "modelo_idade.save(\"modelos/modelo_idade.h5\")\n",
        "modelo_idade.save_weights(\"pesos/modelo_idade_pesos.h5\")"
      ]
    },
    {
      "cell_type": "markdown",
      "metadata": {
        "id": "dvn9tJvXZHcB"
      },
      "source": [
        "Os valores de erro e acurácia são importantes indicadores de desempenho da rede. Avaliar a tendência de subida ou descida destes parâmetros é essencial para localizar, por exemplo, prooblemas de _overfitting_ e _underfitting_. \n",
        "Com o suporte dos gráficos avalie a tendência do modelo ao logo das épocas."
      ]
    },
    {
      "cell_type": "code",
      "execution_count": null,
      "metadata": {
        "id": "_0HyY_0WZHcB"
      },
      "outputs": [],
      "source": [
        "# Para deixar no formato do Seaborn os gráficos do Pyplot\n",
        "sns.set()\n",
        "\n",
        "# Exibindo dados de Acurácia/Precisão\n",
        "plt.plot(historico.history['acc'])\n",
        "plt.plot(historico.history['val_acc'])\n",
        "plt.title('model accuracy')\n",
        "plt.ylabel('accuracy')\n",
        "plt.xlabel('epoch')\n",
        "plt.legend(['train', 'test'], loc='upper left')\n",
        "plt.show()\n",
        "\n",
        "# Exibindo dados de Perda\n",
        "plt.plot(historico.history['loss'])\n",
        "plt.plot(historico.history['val_loss'])\n",
        "plt.title('model loss')\n",
        "plt.ylabel('loss')\n",
        "plt.xlabel('epoch')\n",
        "plt.legend(['train', 'test'], loc='upper left')\n",
        "plt.show()"
      ]
    },
    {
      "cell_type": "markdown",
      "metadata": {
        "id": "v_rStww9ZHcB"
      },
      "source": [
        "**Pergunta:** Qual foi a tendência da função de erro e acurácia do modelo?"
      ]
    },
    {
      "cell_type": "markdown",
      "metadata": {
        "id": "uXBczN0MZHcB"
      },
      "source": [
        "**Resposta:**"
      ]
    },
    {
      "cell_type": "markdown",
      "metadata": {
        "id": "9B8n_3VlZHcB"
      },
      "source": [
        "Os comandos abaixo são de referência para carregar um modelo para inferências futuras."
      ]
    },
    {
      "cell_type": "code",
      "execution_count": null,
      "metadata": {
        "id": "Hi5GVJ2hZHcC"
      },
      "outputs": [],
      "source": [
        "# carregando o modelo no formato HDf5\n",
        "modelo_idade = load_model(\"modelos/modelo_idade.h5\")  \n",
        "modelo_idade.load_weights(\"pesos/modelo_idade_pesos.h5\")"
      ]
    },
    {
      "cell_type": "markdown",
      "metadata": {
        "id": "A246V2LMZHcC"
      },
      "source": [
        "Este classificador tem uma particularidade diferente quando comparado com outros classificadores.\n",
        "Geralmente um classificador retorna, dado uma amostra, qual a classe mais próxima ou qual tem maior probabilidade estatística. Por exemplo, se fóssemos classificar um objeto, o retorno seria a classe correspondente àquele objeto com maior semelhança, mutualmente excludente, sendo uma única classe como resultado.\n",
        "\n",
        "Neste caso é diferente.\n",
        "\n",
        "Cada classe se refere a uma idade, logo, ao invés de nos basearmos na classe dominante, com maior probabilidade, podemos somar as probabilidades com cada classe e assim ter um valor de idade mais aproximado (veja na imagem abaixo do pipeline, item 5). \n",
        "\n",
        "É por essa razão que a acurácia do modelo, baseada somente na classe dominante é baixa.\n",
        "\n",
        "<p align=\"center\">\n",
        "<img src=\"https://github.com/michelpf/fiap-ml-visao-computacional-capstone/blob/master/projeto/imagens-aux/pipeline.png?raw=1\">\n",
        "</p>\n",
        "\n",
        "Os comandos abaixo contabilizam a predição baseada na soma das probabilidades de cada classe."
      ]
    },
    {
      "cell_type": "code",
      "execution_count": null,
      "metadata": {
        "id": "PLwL6cJyZHcC"
      },
      "outputs": [],
      "source": [
        "predicoes_idade = modelo_idade.predict(teste_x)\n",
        "classes_idade_saida = np.array([i for i in range(0, classes_idade)])\n",
        "predicoes_agrupadas = np.sum(predicoes_idade * classes_idade_saida, axis = 1)"
      ]
    },
    {
      "cell_type": "markdown",
      "metadata": {
        "collapsed": true,
        "id": "16b47BPUZHcC"
      },
      "source": [
        "Deste modo, o valor da acurácia não é o melhor para avaliarmoso modelo. A uma outra forma de avaliação é utilizarmos o _Erro Médio Absoluto_.\n",
        "\n",
        "O uso do _Erro Médio Absoluto_ foi integralmente aplicado de acordo com este [artigo](https://sefiks.com/2019/02/13/apparent-age-and-gender-prediction-in-keras)."
      ]
    },
    {
      "cell_type": "code",
      "execution_count": null,
      "metadata": {
        "id": "MLHSJWWEZHcC"
      },
      "outputs": [],
      "source": [
        "erro_medio_absoluto = 0\n",
        "atual_media = 0\n",
        "\n",
        "for i in range(0 ,predicoes_agrupadas.shape[0]):\n",
        "    predicao = int(predicoes_agrupadas[i])\n",
        "    atual = np.argmax(teste_y[i])\n",
        "    erro_abs = abs(predicao - atual)\n",
        "    atual_media = atual_media + atual\n",
        "    erro_medio_absoluto += erro_abs"
      ]
    },
    {
      "cell_type": "code",
      "execution_count": null,
      "metadata": {
        "id": "32_7kiE_ZHcC"
      },
      "outputs": [],
      "source": [
        "erro_medio_absoluto /= predicoes_agrupadas.shape[0]\n",
        " \n",
        "print(\"Erro médio absoluto (+/-): \", erro_medio_absoluto, \" anos\")\n",
        "print(\"Exemplos analisados: \",predicoes_agrupadas.shape[0])"
      ]
    },
    {
      "cell_type": "markdown",
      "metadata": {
        "id": "xjyRmbBjZHcD"
      },
      "source": [
        "> **Critério de sucesso:** com base nas amostras de teste, o erro absoluto precisa ser não mais do que (+/-) 8."
      ]
    },
    {
      "cell_type": "markdown",
      "metadata": {
        "id": "pJHUSsefZHcD"
      },
      "source": [
        "### 2.7 Avaliação final\n",
        "\n",
        "Vamos analisar um conjunto de 6 imagens e verificar a coerência do modelo.\n",
        "Antes precisamos contruir uma função, a ```carregarImagem``` para padronizar a imagem, redimensionando para o formato do modelo e normalizando a intensidade dos pixels."
      ]
    },
    {
      "cell_type": "code",
      "execution_count": null,
      "metadata": {
        "id": "5VY1VrDPZHcD"
      },
      "outputs": [],
      "source": [
        "def carregarImagem(caminho):\n",
        "    imagem = image.load_img(caminho, target_size=(224, 224))\n",
        "    imagem = image.img_to_array(imagem)\n",
        "    imagem = np.expand_dims(imagem, axis = 0)\n",
        "    imagem /= 255\n",
        "    return imagem"
      ]
    },
    {
      "cell_type": "markdown",
      "metadata": {
        "id": "l4A1WWovZHcD"
      },
      "source": [
        "Para cada imagem de testes já separadas no diretório ```testes```, vamos padronizá-la."
      ]
    },
    {
      "cell_type": "code",
      "execution_count": null,
      "metadata": {
        "id": "aejY8QuHZHcD"
      },
      "outputs": [],
      "source": [
        "caminho_imagem_1 = \"testes/teste-1.jpg\"\n",
        "imagem_1_pad = carregarImagem(caminho_imagem_1)"
      ]
    },
    {
      "cell_type": "markdown",
      "metadata": {
        "id": "GQqZn4zcZHcD"
      },
      "source": [
        "Executar a inferência para obter sua predição."
      ]
    },
    {
      "cell_type": "code",
      "execution_count": null,
      "metadata": {
        "id": "H8-6exwSZHcD"
      },
      "outputs": [],
      "source": [
        "predicao_1 = modelo_idade.predict(imagem_1_pad)"
      ]
    },
    {
      "cell_type": "markdown",
      "metadata": {
        "id": "H1nic0ztZHcE"
      },
      "source": [
        "E, finalmente, somar as classes para a classificação mais exata."
      ]
    },
    {
      "cell_type": "code",
      "execution_count": null,
      "metadata": {
        "id": "_4m4SCwGZHcE"
      },
      "outputs": [],
      "source": [
        "idade_agrupada_1 = np.round(np.sum(predicao_1 * classes_idade_saida, axis = 1))"
      ]
    },
    {
      "cell_type": "markdown",
      "metadata": {
        "id": "onOTinFOZHcE"
      },
      "source": [
        "A função abaixo é para exibirmos no gráfico. Como elas estão com tamanhos diferentes, vamos também redimensioná-las para o padrão do moodeo, apenas por convenção, poderia ser outro tamanho."
      ]
    },
    {
      "cell_type": "code",
      "execution_count": null,
      "metadata": {
        "id": "Dc4LcaxcZHcE"
      },
      "outputs": [],
      "source": [
        "imagem_1 = image.load_img(caminho_imagem_1, target_size=(224, 224))"
      ]
    },
    {
      "cell_type": "markdown",
      "metadata": {
        "id": "PFXnwFrJZHcE"
      },
      "source": [
        "Agora, faremos para todas as outras imagens."
      ]
    },
    {
      "cell_type": "code",
      "execution_count": null,
      "metadata": {
        "id": "wTxkEOXJZHcE"
      },
      "outputs": [],
      "source": [
        "caminho_imagem_2 = \"testes/teste-2.png\"\n",
        "imagem_2_pad = carregarImagem(caminho_imagem_2)\n",
        "imagem_2 = image.load_img(caminho_imagem_2, target_size=(224, 224))\n",
        "predicao_2 = modelo_idade.predict(imagem_2_pad)\n",
        "idade_agrupada_2 = np.round(np.sum(predicao_2 * classes_idade_saida, axis = 1))\n",
        "\n",
        "caminho_imagem_3 = \"testes/teste-3.png\"\n",
        "imagem_3_pad = carregarImagem(caminho_imagem_3)\n",
        "imagem_3 = image.load_img(caminho_imagem_3, target_size=(224, 224))\n",
        "predicao_3 = modelo_idade.predict(imagem_3_pad)\n",
        "idade_agrupada_3 = np.round(np.sum(predicao_3 * classes_idade_saida, axis = 1))\n",
        "\n",
        "caminho_imagem_4 = \"testes/teste-4.png\"\n",
        "imagem_4_pad = carregarImagem(caminho_imagem_4)\n",
        "imagem_4 = image.load_img(caminho_imagem_4, target_size=(224, 224))\n",
        "predicao_4 = modelo_idade.predict(imagem_4_pad)\n",
        "idade_agrupada_4 = np.round(np.sum(predicao_4 * classes_idade_saida, axis = 1))\n",
        "\n",
        "caminho_imagem_5 = \"testes/teste-5.png\"\n",
        "imagem_5_pad = carregarImagem(caminho_imagem_5)\n",
        "imagem_5 = image.load_img(caminho_imagem_5, target_size=(224, 224))\n",
        "predicao_5 = modelo_idade.predict(imagem_5_pad)\n",
        "idade_agrupada_5 = np.round(np.sum(predicao_5 * classes_idade_saida, axis = 1))\n",
        "\n",
        "caminho_imagem_6 = \"testes/teste-6.png\"\n",
        "imagem_6_pad = carregarImagem(caminho_imagem_6)\n",
        "imagem_6 = image.load_img(caminho_imagem_6, target_size=(224, 224))\n",
        "predicao_6 = modelo_idade.predict(imagem_6_pad)\n",
        "idade_agrupada_6 = np.round(np.sum(predicao_6 * classes_idade_saida, axis = 1))"
      ]
    },
    {
      "cell_type": "markdown",
      "metadata": {
        "id": "3k02WacPZHcF"
      },
      "source": [
        "Exibindo as imagens.\n",
        "\n",
        "O resultado da idade é índice 0 do objeto ```idade_agrupada```."
      ]
    },
    {
      "cell_type": "code",
      "execution_count": null,
      "metadata": {
        "id": "eVGEwzsDZHcF"
      },
      "outputs": [],
      "source": [
        "plt.figure(figsize=(20,10))\n",
        "plt.subplot(231)\n",
        "plt.title(\"Idade inferida \" + str(idade_agrupada_1[0]))\n",
        "plt.imshow(imagem_1)\n",
        "plt.subplot(232)\n",
        "plt.title(\"Idade inferida \" + str(idade_agrupada_2[0]))\n",
        "plt.imshow(imagem_2)\n",
        "plt.subplot(233)\n",
        "plt.title(\"Idade inferida \" + str(idade_agrupada_3[0]))\n",
        "plt.imshow(imagem_3)\n",
        "plt.subplot(234)\n",
        "plt.title(\"Idade inferida \" + str(idade_agrupada_4[0]))\n",
        "plt.imshow(imagem_4)\n",
        "plt.subplot(235)\n",
        "plt.title(\"Idade inferida \" + str(idade_agrupada_5[0]))\n",
        "plt.imshow(imagem_5)\n",
        "plt.subplot(236)\n",
        "plt.title(\"Idade inferida \" + str(idade_agrupada_6[0]))\n",
        "plt.imshow(imagem_6)\n",
        "\n",
        "plt.show()"
      ]
    },
    {
      "cell_type": "markdown",
      "metadata": {
        "id": "X6zYJfhrZHcF"
      },
      "source": [
        "Analise se as idades estão coerentes com as imagens. Se estiver muito fora, avalie aumentar o número de épocas, por exemplo.\n",
        "\n",
        "Agora vamos implementar a função que retornará a idade a partir de uma imagem de entrada já padronizada (assuma que foi padronizada por uma função como a ```carregarImagem```. Assegure que a função retorne o valor da idade inferida em valor numérico, sem valor fracionário, somente inteiro."
      ]
    },
    {
      "cell_type": "code",
      "execution_count": null,
      "metadata": {
        "id": "WjCbDZPqZHcF"
      },
      "outputs": [],
      "source": [
        "def predizerIdade(imagem):\n",
        "    # IMPLEMENTAR"
      ]
    },
    {
      "cell_type": "markdown",
      "metadata": {
        "id": "zJ7Oh8rwZHcF"
      },
      "source": [
        "Liberando memória de variáveis sem utilização."
      ]
    },
    {
      "cell_type": "code",
      "execution_count": null,
      "metadata": {
        "id": "RS6q0fTtZHcF"
      },
      "outputs": [],
      "source": [
        "treinamento_x, teste_x, treinamento_y, teste_y  = None, None, None, None"
      ]
    },
    {
      "cell_type": "markdown",
      "metadata": {
        "collapsed": true,
        "id": "3tnRns2JZHcG"
      },
      "source": [
        "## 3. Modelo de predição de gênero biológico\n",
        "\n",
        "A base utilizada será a mesma que aplicamos no modeo de idade. Nesse o caso o modelo terá uma tarefa mais fácil, pois ao invés de aproximidamente 100 classes vamos ter somente 2 classes, uma cada definir o gênero masculino e outra para o gênero feminino. "
      ]
    },
    {
      "cell_type": "markdown",
      "metadata": {
        "id": "MXl6aI4fZHcG"
      },
      "source": [
        "### 3.1 Definição do modelo\n",
        "Vamos começar definindo o número de classes."
      ]
    },
    {
      "cell_type": "code",
      "execution_count": null,
      "metadata": {
        "id": "yPHPdjWPZHcG"
      },
      "outputs": [],
      "source": [
        "# IMPLEMENTAR\n",
        "num_classes_genero = None"
      ]
    },
    {
      "cell_type": "markdown",
      "metadata": {
        "id": "jIf9Hx6KZHcG"
      },
      "source": [
        "Transformando os valores do conjunto de dados em _one hot enconding_ para definição dos gêneros."
      ]
    },
    {
      "cell_type": "code",
      "execution_count": null,
      "metadata": {
        "id": "HdrOkrYKZHcG"
      },
      "outputs": [],
      "source": [
        "features_imagem = []\n",
        "\n",
        "faces, _, generos = carregar_imagens_faces()\n",
        "features_imagem = np.array(faces)\n",
        "features_imagem = features_imagem.reshape(features_imagem.shape[0], 224, 224, 3)"
      ]
    },
    {
      "cell_type": "markdown",
      "metadata": {
        "id": "OSWyXUwNZHcG"
      },
      "source": [
        "Liberar memória após o uso das imagens serem padronizadas."
      ]
    },
    {
      "cell_type": "code",
      "execution_count": null,
      "metadata": {
        "id": "Md6ODx76ZHcG"
      },
      "outputs": [],
      "source": [
        "faces = None"
      ]
    },
    {
      "cell_type": "code",
      "execution_count": null,
      "metadata": {
        "id": "2lG0zo_TZHcH"
      },
      "outputs": [],
      "source": [
        "generos_classes = keras.utils.to_categorical(generos, num_classes_genero)"
      ]
    },
    {
      "cell_type": "markdown",
      "metadata": {
        "id": "9UdgKrOEZHcH"
      },
      "source": [
        "Como para ambos os modelos, de idade e gênero, utilizamos a mesma base de _transfer learning_ do VGGFace, vamos reutilizá-la também neste modelo."
      ]
    },
    {
      "cell_type": "code",
      "execution_count": null,
      "metadata": {
        "id": "yh7GdMXLZHcH"
      },
      "outputs": [],
      "source": [
        "for layer in modelo.layers[:-7]:\n",
        "    layer.trainable = False\n",
        "\n",
        "saida_modelo = Sequential()\n",
        "saida_modelo = Convolution2D(num_classes_genero, (1, 1), name='predictions')(modelo.layers[-4].output)\n",
        "saida_modelo = Flatten()(saida_modelo)\n",
        "saida_modelo = Activation('softmax')(saida_modelo)\n",
        "\n",
        "modelo_genero = Model(inputs=modelo.input, outputs=saida_modelo)"
      ]
    },
    {
      "cell_type": "markdown",
      "metadata": {
        "id": "FfsNphSwZHcH"
      },
      "source": [
        "### 3.2 Separação de dados de treinamento e validação\n",
        "\n",
        "É recomendavel manter a mesma porcentagem do modelo anterior para dividir os dados de treinamento e validação."
      ]
    },
    {
      "cell_type": "code",
      "execution_count": null,
      "metadata": {
        "id": "keFNeoLYZHcH"
      },
      "outputs": [],
      "source": [
        "#IMPLEMENTAR\n",
        "porcentagem_validacao = None"
      ]
    },
    {
      "cell_type": "code",
      "execution_count": null,
      "metadata": {
        "id": "YE56ZXy-ZHcH"
      },
      "outputs": [],
      "source": [
        "treinamento_x, teste_x, treinamento_y, teste_y = train_test_split(features_imagem, \n",
        "                                                                  generos_classes, \n",
        "                                                                  test_size=porcentagem_validacao)"
      ]
    },
    {
      "cell_type": "markdown",
      "metadata": {
        "id": "pXBbIZIYZHcH"
      },
      "source": [
        "Liberando memória da variável ```features_imagem``` que não será utilizada."
      ]
    },
    {
      "cell_type": "code",
      "execution_count": null,
      "metadata": {
        "id": "1q2mvXXqZHcI"
      },
      "outputs": [],
      "source": [
        "features_imagem = None"
      ]
    },
    {
      "cell_type": "markdown",
      "metadata": {
        "id": "QY85x9gpZHcI"
      },
      "source": [
        "### 3.3 Treinamento e validação\n",
        "\n",
        "A seguir iremos treinar o modelo para classificação de gêneros.\n",
        "De forma semelhante realizada anteriormente, é necessário definir o número de épocas para esta etapa. Recomendamos um valor mínimo de 2."
      ]
    },
    {
      "cell_type": "code",
      "execution_count": null,
      "metadata": {
        "id": "jjCVFeJGZHcI"
      },
      "outputs": [],
      "source": [
        "# IMPLEMENTAR\n",
        "numero_epocas = None"
      ]
    },
    {
      "cell_type": "markdown",
      "metadata": {
        "id": "ApSXKCMcZHcI"
      },
      "source": [
        "*Caso o modelo trave no treinamento, experimente diminuir o ```batch_size```*.\n",
        "\n",
        "Este modelo é mais simples por ter menos classes, logo podemos assumir um ```batch_size``` maior que o anterior."
      ]
    },
    {
      "cell_type": "code",
      "execution_count": null,
      "metadata": {
        "id": "PIHW0DxIZHcJ"
      },
      "outputs": [],
      "source": [
        "modelo_genero.compile(optimizer='adam', loss='categorical_crossentropy', metrics=['accuracy'])\n",
        "historico_genero = modelo_genero.fit(x=treinamento_x, y=treinamento_y, \n",
        "                             validation_data=(teste_x, teste_y), epochs=numero_epocas, batch_size=64)"
      ]
    },
    {
      "cell_type": "markdown",
      "metadata": {
        "id": "jS8B77_SZHcJ"
      },
      "source": [
        "Verifique abaixo, por meio dos gráficos, como está a evolução da função de erro e acurácia do modelo."
      ]
    },
    {
      "cell_type": "code",
      "execution_count": null,
      "metadata": {
        "id": "S-nvqVfPZHcJ"
      },
      "outputs": [],
      "source": [
        "# Para deixar no formato do Seaborn os gráficos do Pyplot\n",
        "sns.set()\n",
        "\n",
        "# Exibindo dados de Acurácia/Precisão\n",
        "plt.plot(historico_genero.history['acc'])\n",
        "plt.plot(historico_genero.history['val_acc'])\n",
        "plt.title('model accuracy')\n",
        "plt.ylabel('accuracy')\n",
        "plt.xlabel('epoch')\n",
        "plt.legend(['train', 'test'], loc='upper left')\n",
        "plt.show()\n",
        "\n",
        "# Exibindo dados de Perda\n",
        "plt.plot(historico_genero.history['loss'])\n",
        "plt.plot(historico_genero.history['val_loss'])\n",
        "plt.title('model loss')\n",
        "plt.ylabel('loss')\n",
        "plt.xlabel('epoch')\n",
        "plt.legend(['train', 'test'], loc='upper left')\n",
        "plt.show()"
      ]
    },
    {
      "cell_type": "markdown",
      "metadata": {
        "id": "cfUX_weZZHcJ"
      },
      "source": [
        "**Pergunta:** Qual foi a tendência da função de erro e acurácia do modelo?"
      ]
    },
    {
      "cell_type": "markdown",
      "metadata": {
        "id": "wcYdSDPyZHcJ"
      },
      "source": [
        "**Resposta:**"
      ]
    },
    {
      "cell_type": "markdown",
      "metadata": {
        "id": "rPh6TBkqZHcJ"
      },
      "source": [
        "Salve os modelos abaixo para uso em inferências mais adiante no projeto."
      ]
    },
    {
      "cell_type": "code",
      "execution_count": null,
      "metadata": {
        "id": "B2r3AP5wZHcK"
      },
      "outputs": [],
      "source": [
        "# Salvando o modelo no formato HDf5\n",
        "modelo_genero.save(\"modelos/modelo_genero.h5\")\n",
        "modelo_genero.save_weights(\"pesos/modelo_genero_pesos.h5\")"
      ]
    },
    {
      "cell_type": "markdown",
      "metadata": {
        "id": "Qt01efC4ZHcK"
      },
      "source": [
        "Os comandos a seguir são para carregar os pesos e o modelo previamente treinado."
      ]
    },
    {
      "cell_type": "code",
      "execution_count": null,
      "metadata": {
        "id": "KYpi-ufPZHcK"
      },
      "outputs": [],
      "source": [
        "# carregando o modelo no formato HDf5\n",
        "modelo_genero = load_model(\"modelos/modelo_genero.h5\")  \n",
        "modelo_genero.load_weights(\"pesos/modelo_genero_pesos.h5\")"
      ]
    },
    {
      "cell_type": "markdown",
      "metadata": {
        "id": "BAlERS-4ZHcK"
      },
      "source": [
        "> **Critério de sucesso:** acurácia do modelo, com base nas amostra de teste, superior a 85%."
      ]
    },
    {
      "cell_type": "markdown",
      "metadata": {
        "id": "8XHYaH4VZHcK"
      },
      "source": [
        "### 3.4 Avaliação final\n",
        "\n",
        "Com base em algumas amostras da base de testes, vamos inferir 6 imagens para verificarmos o desempenho do modeo.\n",
        "Selecionamos 3 imagens de homens e mulheres.\n",
        "\n",
        "Como este modelo é mais simples, ou seja, o resultado sempre vai ser a classe com maior probabilidade, não precisamos realizar a somatória dos pesos individualmente como fizemos no modelo anterior.\n",
        "\n",
        "Assim o resultado final será obtido pela maior classe. A função ```np.argmax``` retorna a maior classe da predição realizada pelo modelo.\n",
        "\n",
        "De acordo com o _encoding_, o índice 0 indica gênero masculino e o índice 1 o gênero feminino."
      ]
    },
    {
      "cell_type": "code",
      "execution_count": null,
      "metadata": {
        "id": "4EbFWThiZHcK"
      },
      "outputs": [],
      "source": [
        "predicao_1 = modelo_genero.predict(imagem_1_pad)\n",
        "resultado_1 = \"Masculino\" if np.argmax(predicao_1) == 1 else \"Feminino\"\n",
        "\n",
        "predicao_2 = modelo_genero.predict(imagem_2_pad)\n",
        "resultado_2 = \"Masculino\" if np.argmax(predicao_2) == 1 else \"Feminino\"\n",
        "\n",
        "predicao_3 = modelo_genero.predict(imagem_3_pad)\n",
        "resultado_3 = \"Masculino\" if np.argmax(predicao_3) == 1 else \"Feminino\"\n",
        "\n",
        "predicao_4 = modelo_genero.predict(imagem_4_pad)\n",
        "resultado_4 = \"Masculino\" if np.argmax(predicao_4) == 1 else \"Feminino\"\n",
        "\n",
        "predicao_5 = modelo_genero.predict(imagem_5_pad)\n",
        "resultado_5 = \"Masculino\" if np.argmax(predicao_5) == 1 else \"Feminino\"\n",
        "\n",
        "predicao_6 = modelo_genero.predict(imagem_6_pad)\n",
        "resultado_6 = \"Masculino\" if np.argmax(predicao_6) == 1 else \"Feminino\""
      ]
    },
    {
      "cell_type": "markdown",
      "metadata": {
        "id": "Ne_CtA73ZHcL"
      },
      "source": [
        "Agora vamos exibir no gráfico as imagens e as inferências realizadas."
      ]
    },
    {
      "cell_type": "code",
      "execution_count": null,
      "metadata": {
        "id": "1Cd7RbAdZHcL"
      },
      "outputs": [],
      "source": [
        "# Para deixar no formato do Seaborn os gráficos do Pyplot\n",
        "sns.set()\n",
        "sns.set_style(\"whitegrid\", {'axes.grid' : False})\n",
        "\n",
        "plt.figure(figsize=(20,10))\n",
        "plt.subplot(231)\n",
        "plt.title(\"Gênero inferido: \" + resultado_1)\n",
        "plt.imshow(imagem_1)\n",
        "plt.subplot(232)\n",
        "plt.title(\"Gênero inferido: \" + resultado_2)\n",
        "plt.imshow(imagem_2)\n",
        "plt.subplot(233)\n",
        "plt.title(\"Gênero inferido: \" + resultado_3)\n",
        "plt.imshow(imagem_3)\n",
        "plt.subplot(234)\n",
        "plt.title(\"Gênero inferido: \" + resultado_4)\n",
        "plt.imshow(imagem_4)\n",
        "plt.subplot(235)\n",
        "plt.title(\"Gênero inferido: \" + resultado_5)\n",
        "plt.imshow(imagem_5)\n",
        "plt.subplot(236)\n",
        "plt.title(\"Gênero inferido: \" + resultado_6)\n",
        "plt.imshow(imagem_6)\n",
        "\n",
        "plt.show()"
      ]
    },
    {
      "cell_type": "markdown",
      "metadata": {
        "id": "hFS7LPwlZHcL"
      },
      "source": [
        "Vamos aproveitar para deixar preparado a função de predição de gênero para usarmos mais adiante.\n",
        "Implemente a função abaixo para retornar \"Masculino\" se a classe com maior probabilidade for 1, ou \"Feminino\" se a maior probabilidade for a classe igual a 0.\n",
        "É do mesmo jeito que fizemos anteriormente na predição de idade. Assuma que o parâmetro de entrada seja uma imagem já padronizada."
      ]
    },
    {
      "cell_type": "code",
      "execution_count": null,
      "metadata": {
        "id": "FK05IliHZHcM"
      },
      "outputs": [],
      "source": [
        "def predizerGenero(imagem):\n",
        "    # IMPLEMENTAR"
      ]
    },
    {
      "cell_type": "markdown",
      "metadata": {
        "id": "DChcySkYZHcM"
      },
      "source": [
        "Liberando memória de variáveis sem utilização."
      ]
    },
    {
      "cell_type": "code",
      "execution_count": null,
      "metadata": {
        "id": "Bv_cWL4kZHcM"
      },
      "outputs": [],
      "source": [
        "treinamento_x, teste_x, treinamento_y, teste_y  = None, None, None, None"
      ]
    },
    {
      "cell_type": "code",
      "execution_count": null,
      "metadata": {
        "id": "jawJLfxJZHcN"
      },
      "outputs": [],
      "source": [
        ""
      ]
    },
    {
      "cell_type": "markdown",
      "metadata": {
        "id": "wwBxOLqOZHcN"
      },
      "source": [
        "## 4. Identificação de faces\n",
        "\n",
        "Nesta etapa precisamos construir uma forma de extrair regiões de interesse de imagens que sejam rostos. \n",
        "Problema de reconhecimento de faces aprofundado é realizada a partir de um recorte de região de interesse. Logo, nossa estratégia agora é como extrair uma ou mais faces de uma imagem para que seja possível, posteriormente, aplicarmos os modelos que acabamos de classificar.\n",
        "\n",
        "Vamos começar com um teste simples."
      ]
    },
    {
      "cell_type": "code",
      "execution_count": null,
      "metadata": {
        "id": "Uc43RyzsZHcN"
      },
      "outputs": [],
      "source": [
        "imagem = cv2.imread('testes/teste-8.png')\n",
        "imagem = cv2.cvtColor(imagem, cv2.COLOR_BGR2RGB)"
      ]
    },
    {
      "cell_type": "code",
      "execution_count": null,
      "metadata": {
        "id": "ha1Qhgb9ZHcO"
      },
      "outputs": [],
      "source": [
        "plt.figure(figsize=(20,10))\n",
        "plt.imshow(imagem)\n",
        "plt.title(\"Pessoas\")"
      ]
    },
    {
      "cell_type": "markdown",
      "metadata": {
        "id": "7ZAL4BYdZHcO"
      },
      "source": [
        "Escolha uma forma de identificar rostos de uma imagem.\n",
        "Recomendamos as seguintes formas:\n",
        "\n",
        "* Classificador em cascata de Haar\n",
        "* Detector de face baseado em Hog (DLib), recomendamos utilizar o classificador de 68 pontos para maior precisão\n",
        "\n",
        "Dada a imagem de testes apresentada, execute seu algoritmo escolhido e retorne o número de faces na variável ```faces```."
      ]
    },
    {
      "cell_type": "code",
      "execution_count": null,
      "metadata": {
        "id": "w2cOMNddZHcP"
      },
      "outputs": [],
      "source": [
        "# IMPLEMENTAR\n",
        "\n",
        "faces = None"
      ]
    },
    {
      "cell_type": "code",
      "execution_count": null,
      "metadata": {
        "id": "EXUTJqcCZHcP"
      },
      "outputs": [],
      "source": [
        "print(\"Faces encontradas: \" + str(len(faces)))"
      ]
    },
    {
      "cell_type": "markdown",
      "metadata": {
        "id": "4_1eIVfbZHcP"
      },
      "source": [
        "> **Critério de sucesso:** encontrar as 2 faces da imagem."
      ]
    },
    {
      "cell_type": "markdown",
      "metadata": {
        "id": "3AfZzQ33ZHcQ"
      },
      "source": [
        "Com as faces identificadas, desenhe um retângulo em cada uma delas.\n",
        "Para desenhar um retângulo, é necessário os seguintes dados: coordenada x, y, comprimento (w) e altura (h).\n",
        "\n",
        "Caso utilize o detector de faces do DLib, o valor da coordenada x é equivalente ao atributo _left_ e a coordenada y é o equivalente ao atributo _top_.\n",
        "\n",
        "O DLib é um identificador tão versátil que é capaz de identificar rostos parciais em uma imagem. No entanto, quando isso ocorre as coordenadas podem ser negativas, o que pode demandar um certo ajuste para obter o valor da região de interesse, por exemplo igualando a coordenada a 0.\n",
        "\n",
        "Utilize o seguinte comando para desenhar um retângulo em cada face identificada.\n",
        "\n",
        "````\n",
        "cv2.rectangle(imagem_anotada, (x,y), (x+w,y+h), (255,255,0), 2)\n",
        "````"
      ]
    },
    {
      "cell_type": "markdown",
      "metadata": {
        "id": "Q0EhqxBSZHcQ"
      },
      "source": [
        "Criando uma cópia da imagem original para anotação."
      ]
    },
    {
      "cell_type": "code",
      "execution_count": null,
      "metadata": {
        "id": "jM7_m3cmZHcQ"
      },
      "outputs": [],
      "source": [
        "imagem_anotada = imagem.copy()"
      ]
    },
    {
      "cell_type": "code",
      "execution_count": null,
      "metadata": {
        "id": "mwwnU2IwZHcQ"
      },
      "outputs": [],
      "source": [
        "#IMPLEMENTAR\n"
      ]
    },
    {
      "cell_type": "markdown",
      "metadata": {
        "id": "SLsCsNLxZHcR"
      },
      "source": [
        "Exibindo a imagem com os retângulos desenhados."
      ]
    },
    {
      "cell_type": "code",
      "execution_count": null,
      "metadata": {
        "id": "cm8qZ8cHZHcR"
      },
      "outputs": [],
      "source": [
        "plt.figure(figsize=(20,10))\n",
        "plt.imshow(imagem_anotada)\n",
        "plt.title(\"Pessoas\")"
      ]
    },
    {
      "cell_type": "markdown",
      "metadata": {
        "id": "0DHZY1h0ZHcR"
      },
      "source": [
        "Uma vez que já foi definido o melhor algoritmo de identificação de faces, precisamos construir uma função que posteriormente utilizaremos no processo de processamento de vídeos.\n",
        "\n",
        "Essa função deverá receber na entrada uma imagem colorida e retornar, na forma de lista, um dicionário com as seguintes informações: extração do ROI do rosto e as coordenadas da localização do rosto.\n",
        "\n",
        "Exemplo de retorno:\n",
        "\n",
        "```json\n",
        "[{'coordenadas': [array([589, 290, 386, 386])],\n",
        "  'rosto': array([[[38, 21, 19],\n",
        "          [40, 21, 20],\n",
        "          [41, 22, 20],\n",
        "          ...,\n",
        "          [36, 19, 13],\n",
        "          [37, 20, 15],\n",
        "          [40, 23, 18]],...}]\n",
        "```"
      ]
    },
    {
      "cell_type": "markdown",
      "metadata": {
        "id": "Z4YKqEXIZHcR"
      },
      "source": [
        "O atributo rosto utilizaremos para aplicarmos os modelos de reconhecimento de idade e gênero, e as coordenadas serão utilizadas para fazer os recortes nas imagens.\n",
        "\n",
        "Com isso, a chave ```rosto``` deverá ter o _slice_ da imagem neste padrão ```imagem[y:y+h, x:x+w]``` e a chave ```coordenadas``` deverá ter a saída dos pontos (x, y, h, w) neste padrão ```[np.array(lista_coordenadas)]```."
      ]
    },
    {
      "cell_type": "code",
      "execution_count": null,
      "metadata": {
        "id": "pR-yZVAEZHcR"
      },
      "outputs": [],
      "source": [
        "def obterFaces(imagem):\n",
        "    rostos = []\n",
        "    \n",
        "    #IMPLEMENTAR\n",
        "    \n",
        "    return rostos"
      ]
    },
    {
      "cell_type": "markdown",
      "metadata": {
        "id": "6oWDfVRGZHcR"
      },
      "source": [
        "Vamos aplicar um teste com a imagem anterior (variável ```imagem```)."
      ]
    },
    {
      "cell_type": "code",
      "execution_count": null,
      "metadata": {
        "id": "Ly44nrwLZHcS"
      },
      "outputs": [],
      "source": [
        "rostos = obterFaces(imagem)\n",
        "rostos"
      ]
    },
    {
      "cell_type": "markdown",
      "metadata": {
        "id": "D1ZCQr4jZHcS"
      },
      "source": [
        "> **Critério de sucesso:** retornar 2 valores (da lista) com coordenadas e rosto para cada face identificada. Exemplo:\n",
        "\n",
        "\n",
        "```\n",
        "[{'coordenadas': [array([534, 20,  90, 100], dtype=int32)],\n",
        "  'rosto': array([...], shape=(0, 89, 3), dtype=uint8)},\n",
        "  {'coordenadas': [array([222, 13,  90, 100], dtype=int32)],\n",
        "  'rosto': array([...], shape=(0, 89, 3), dtype=uint8)}]\n",
        "```"
      ]
    },
    {
      "cell_type": "markdown",
      "metadata": {
        "id": "ZkOKrOXGZHcS"
      },
      "source": [
        "Agora vamos testar se os parâmetros estão funcionando adequadamente.\n",
        "\n",
        "Primeiro a imagem do rosto."
      ]
    },
    {
      "cell_type": "code",
      "execution_count": null,
      "metadata": {
        "id": "-rETBC8NZHcS"
      },
      "outputs": [],
      "source": [
        "sns.set_style(\"whitegrid\", {'axes.grid' : False})\n",
        "plt.figure(figsize=(20,10))\n",
        "plt.imshow(rostos[0][\"rosto\"])\n",
        "plt.title(\"Pessoas\")"
      ]
    },
    {
      "cell_type": "markdown",
      "metadata": {
        "id": "x5sWu3PtZHcT"
      },
      "source": [
        "O próximo passo são as coordenadas. Para simplificar, vamos desenhar um retângulo na imagem original com estes pontos."
      ]
    },
    {
      "cell_type": "code",
      "execution_count": null,
      "metadata": {
        "id": "rB4sRMySZHcT"
      },
      "outputs": [],
      "source": [
        "imagem_anotada = imagem.copy()\n",
        "\n",
        "for (x,y,w,h) in rostos[0][\"coordenadas\"]:\n",
        "    cv2.rectangle(imagem_anotada, (x,y), (x+w,y+h), (255,255,0), 2)\n",
        "\n",
        "sns.set_style(\"whitegrid\", {'axes.grid' : False})\n",
        "plt.figure(figsize=(20,10))\n",
        "plt.imshow(imagem_anotada)\n",
        "plt.title(\"Pessoas\")"
      ]
    },
    {
      "cell_type": "markdown",
      "metadata": {
        "id": "uwhrZsJrZHcT"
      },
      "source": [
        "### 4.1 Padronização de tamanho de imagem\n",
        "\n",
        "Adiante, quando aplicarmos a classificação dos rostos, precisaremos antes padronizar a imagem para o tamanho que o modelo recebe na camada de entrada bem como a normalização dos pixels da imagem, ou seja, ao invés de estar no formato de intensidade de pixel de 0 a 255, deve estar representado entre 0 e 1.\n",
        "\n",
        "As implementações deverão ser as seguintes:\n",
        "\n",
        "1. ```IMPLEMENTAR 1```: redimensionar a imagem para o tamanho da camada de entrada. Utilize uma interpolação adequada para não perder qualidade de imagem.\n",
        "2. ```IMPLEMENTAR 2```: normalizar a intensidade de pixel da imagem para 0 e 1 e não 0 a 255, que é o padrão.\n",
        "\n",
        "As demais instruções seguem inalteradas."
      ]
    },
    {
      "cell_type": "code",
      "execution_count": null,
      "metadata": {
        "id": "29F96kdBZHcT"
      },
      "outputs": [],
      "source": [
        "def padronizarROI(imagem):\n",
        "    # IMPLEMENTAR 1\n",
        "    imagem = None\n",
        "    \n",
        "    imagem = image.img_to_array(imagem)\n",
        "    imagem = np.expand_dims(imagem, axis = 0)\n",
        "    \n",
        "    # IMPLEMENTAR 2\n",
        "    imagem = None\n",
        "    \n",
        "    return imagem"
      ]
    },
    {
      "cell_type": "markdown",
      "metadata": {
        "collapsed": true,
        "id": "CMB5KINAZHcT"
      },
      "source": [
        "Agora, vamos avançar para a identificação de objetos."
      ]
    },
    {
      "cell_type": "markdown",
      "metadata": {
        "id": "Ix05wqQ7ZHcT"
      },
      "source": [
        "## 5. Identificação de objetos\n",
        "\n",
        "Além de identificarmos as pessoas, precisamos também identificar diferentes objetos.\n",
        "Uma forma de alcançarmos tal objetivo é utilizar um modelo já treinado com diversos objetos treinados.\n",
        "\n",
        "O modolo Yolov3, por exemplo, possui 80 diferentes objetos em seu modelo, servindo muito bem para o propósito do desafio."
      ]
    },
    {
      "cell_type": "markdown",
      "metadata": {
        "collapsed": true,
        "id": "yydr8OpVZHcU"
      },
      "source": [
        "### 5.1 Configurando o modelo Yolov3\n",
        "\n",
        "Primeiramente baixe os pesos diretamente no site do Darknet, neste [link](https://pjreddie.com/media/files/yolov3.weights). Copie o arquivo ```yolov3.weights``` para a pasta pesos.\n",
        "Confira o arquivo ```yolo-classes/coco.anmes```. Estas são as classes de todos os objetos que são possíveis identificar.\n",
        "Por fim, verifique se o arquivo ```config/yolov3.cfg``` está presente. Não é necessário ajustar nenhum parâmetro nele."
      ]
    },
    {
      "cell_type": "code",
      "execution_count": null,
      "metadata": {
        "id": "nODoI0gIZHcU"
      },
      "outputs": [],
      "source": [
        "# Carregar os labels do conjunto de dados Coco\n",
        "label_path = \"yolo-classes/coco.names\"\n",
        "labels = open(label_path).read().strip().split(\"\\n\")\n",
        "\n",
        "# Atribuir a cada label uma cor diferente (randômica)\n",
        "np.random.seed(42)\n",
        "cores = np.random.randint(0, 255, size=(len(labels), 3), dtype=\"uint8\")\n",
        "\n",
        "# Definir caminho dos arquivos de pesos e configuração\n",
        "pesos_path =\"pesos/yolov3.weights\"\n",
        "config_path = \"config/yolov3.cfg\"\n",
        "\n",
        "# Carregar a rede\n",
        "net = cv2.dnn.readNetFromDarknet(config_path, pesos_path)"
      ]
    },
    {
      "cell_type": "markdown",
      "metadata": {
        "id": "fo5zb149ZHcU"
      },
      "source": [
        "Se o código carregou as configurações sem erros, estamos prontos para avançar."
      ]
    },
    {
      "cell_type": "markdown",
      "metadata": {
        "id": "54upgyPZZHcU"
      },
      "source": [
        "Os valores de confiança e supressão não máxima são atributes importantes para o processo de detecção de objetos. Escolha valores adequados que permitam a detecção aceitável e com valores próximos os critérios de sucesso apresentandos mais adiante.\n",
        "\n",
        "Os valores precisam ser numéricos fracionários. Sendo que 1 é igual a 100%. Valores médios costumam apresentar performance razoável."
      ]
    },
    {
      "cell_type": "code",
      "execution_count": null,
      "metadata": {
        "id": "Y-JpU7-RZHcV"
      },
      "outputs": [],
      "source": [
        "conf_threshold = None\n",
        "nms_threshold = None"
      ]
    },
    {
      "cell_type": "markdown",
      "metadata": {
        "id": "VZ4HtN2MZHcV"
      },
      "source": [
        "**Pergunta:** Qual é a influência do parâmetro de confiança e supressão não máxima na performance do modelo?"
      ]
    },
    {
      "cell_type": "markdown",
      "metadata": {
        "id": "khs6yWPhZHcV"
      },
      "source": [
        "**Resposta:**"
      ]
    },
    {
      "cell_type": "markdown",
      "metadata": {
        "id": "vwRgaIRYZHcV"
      },
      "source": [
        "### 5.2 Obtendo região de interesse e coordenadas\n",
        "\n",
        "De forma semelhante que foi feito na identificação de faces, vamos fazer para a identificação de objetos.\n",
        "Na função abaixo vamos implementar um algoritmo que retornará em um dicionário os valores do recorte da imagem, o que chamamos de região de interesse e suas coordenadas x, y, w e h.\n",
        "\n",
        "A entrada da função é uma imagem colorida e uma lista de objetos para identificar, no formato de lista.\n",
        "Sua saída, é uma lista de objetos no seguinte formato:\n",
        "\n",
        "```json\n",
        "[{'coordenadas': [array([589, 290, 386, 386])],\n",
        "  'objeto': array([[[38, 21, 19],\n",
        "          [40, 21, 20],\n",
        "          [41, 22, 20],\n",
        "          ...,\n",
        "          [36, 19, 13],\n",
        "          [37, 20, 15],\n",
        "          [40, 23, 18]],...}]\n",
        "```\n",
        "\n",
        "Onde ```coordenadas``` é uma lista das coordenadas x, y, w e h no formato array, igual ao que foi apresentado anteriormente: ```[np.array(lista_coordenadas)]```. E ```objeto``` é a região de interesse do objeto extraído, igual ao que foi apresentado anteriormente: ```imagem[y:y+h, x:x+w]```.\n",
        "\n",
        "A função a seguir foi utilizada neste [artigo](https://www.pyimagesearch.com/2018/11/12/yolo-object-detection-with-opencv/) de Adrian Rosebrok. Consulte para mais detalhes sobre a implentação do Yolo com as bibliotecas ```dnn``` do OpenCV."
      ]
    },
    {
      "cell_type": "code",
      "execution_count": null,
      "metadata": {
        "id": "3LUu67IBZHcV"
      },
      "outputs": [],
      "source": [
        "def obter_objetos(imagem, lista_objetos):\n",
        "    \n",
        "    (H, W) = imagem.shape[:2]\n",
        "\n",
        "    ln = net.getLayerNames()\n",
        "    ln = [ln[i[0] - 1] for i in net.getUnconnectedOutLayers()]\n",
        "\n",
        "    blob = cv2.dnn.blobFromImage(imagem, 1/255.0, (416, 416), swapRB=True, crop=False)\n",
        "    net.setInput(blob)\n",
        "    layerOutputs = net.forward(ln)\n",
        "\n",
        "    boxes = []\n",
        "    confidences = []\n",
        "    classIDs = []\n",
        "    objetos = []\n",
        "\n",
        "    for output in layerOutputs:\n",
        "        for detection in output:\n",
        "            scores = detection[5:]\n",
        "            classID = np.argmax(scores)\n",
        "            confidence = scores[classID]\n",
        "\n",
        "            if confidence > conf_threshold:\n",
        "                \n",
        "                box = detection[0:4] * np.array([W, H, W, H])\n",
        "                (centerX, centerY, width, height) = box.astype(\"int\")\n",
        "\n",
        "                x = int(centerX - (width/2))\n",
        "                y = int(centerY - (height/2))\n",
        "\n",
        "                boxes.append([x, y, int(width), int(height)])\n",
        "                confidences.append(float(confidence))\n",
        "                classIDs.append(classID)\n",
        "\n",
        "    idxs = cv2.dnn.NMSBoxes(boxes, confidences, conf_threshold, nms_threshold)\n",
        "\n",
        "    if len(idxs) > 0:\n",
        "        for i in idxs.flatten():\n",
        "            (x, y) = (boxes[i][0], boxes[i][1])\n",
        "            (w, h) = (boxes[i][2], boxes[i][3])\n",
        "            \n",
        "            if x < 0:\n",
        "                x = 0\n",
        "            if y < 0:\n",
        "                y = 0\n",
        "\n",
        "            text = \"{}: {:.4f}\".format(labels[classIDs[i]], confidences[i])\n",
        "            \n",
        "            if labels[classIDs[i]] in lista_objetos:\n",
        "                print(\"Identificado \" + text)\n",
        "                \n",
        "                # IMPLEMENTAR\n",
        "                item = {\"objeto\": None, \"coordenadas\": None}\n",
        "                \n",
        "                objetos.append(item)\n",
        "\n",
        "    return objetos"
      ]
    },
    {
      "cell_type": "markdown",
      "metadata": {
        "id": "clknSNuhZHcV"
      },
      "source": [
        "Vamos utilizar outra imagem de testes para validar o algoritmo."
      ]
    },
    {
      "cell_type": "code",
      "execution_count": null,
      "metadata": {
        "id": "6gwjxIjdZHcW"
      },
      "outputs": [],
      "source": [
        "imagem_inferencia = cv2.imread(\"testes/teste-9.png\")\n",
        "imagem_inferencia = cv2.cvtColor(imagem_inferencia, cv2.COLOR_BGR2RGB)"
      ]
    },
    {
      "cell_type": "markdown",
      "metadata": {
        "id": "wvSb59A7ZHcW"
      },
      "source": [
        "Na variável ```lista_objetos``` preecha com uma lista de Strings com os valores \"pessoa\" e \"gravata\" que são os objetos a serem identificados."
      ]
    },
    {
      "cell_type": "code",
      "execution_count": null,
      "metadata": {
        "id": "LeFVyL_dZHcW"
      },
      "outputs": [],
      "source": [
        "# IMPLEMENTAR\n",
        "lista_objetos = [\"pessoa\", \"gravata\"]"
      ]
    },
    {
      "cell_type": "markdown",
      "metadata": {
        "id": "sPbbv2S9ZHcW"
      },
      "source": [
        "Execute a função com a lista definida."
      ]
    },
    {
      "cell_type": "code",
      "execution_count": null,
      "metadata": {
        "id": "xSW3rxuYZHcW"
      },
      "outputs": [],
      "source": [
        "objetos = obter_objetos(imagem_inferencia, lista_objetos)"
      ]
    },
    {
      "cell_type": "markdown",
      "metadata": {
        "id": "lMjPEW3qZHcW"
      },
      "source": [
        "Para nos certificamos que a identificação está correta, vamos desenhar um retângulo delimitador na imagem e verificar como foi a identificação.\n",
        "\n",
        "Neste caso vamos utilizar o parâmetro ```coordenadas``` do retorno da função para cada objeto identificado."
      ]
    },
    {
      "cell_type": "code",
      "execution_count": null,
      "metadata": {
        "id": "d3hwe8TPZHcW"
      },
      "outputs": [],
      "source": [
        "imagem_anotada = imagem_inferencia.copy()\n",
        "for obj in objetos:\n",
        "    for (x,y,w,h) in obj[\"coordenadas\"]:\n",
        "        cv2.rectangle(imagem_anotada, (x,y), (x+w,y+h), (255,255,0), 2)"
      ]
    },
    {
      "cell_type": "code",
      "execution_count": null,
      "metadata": {
        "id": "ZflmELfeZHcX"
      },
      "outputs": [],
      "source": [
        "plt.figure(figsize=(20,10))\n",
        "plt.imshow(imagem_anotada)\n",
        "plt.title(\"Imagem Inferida\")"
      ]
    },
    {
      "cell_type": "markdown",
      "metadata": {
        "id": "aKdPiUu-ZHcX"
      },
      "source": [
        "Vamos dar uma olhada em 3 regiões de interesse detectadas.\n",
        "Lembrando que estas regiões são imagens, podemos renderizá-las diretamente no Pyplot."
      ]
    },
    {
      "cell_type": "code",
      "execution_count": null,
      "metadata": {
        "id": "cp3iZrBPZHcX"
      },
      "outputs": [],
      "source": [
        "plt.figure(figsize=(20,10))\n",
        "plt.imshow(objetos[0][\"objeto\"])\n",
        "plt.title(\"Região de interesse #1\")"
      ]
    },
    {
      "cell_type": "code",
      "execution_count": null,
      "metadata": {
        "id": "LrwiXNFmZHcX"
      },
      "outputs": [],
      "source": [
        "plt.figure(figsize=(20,10))\n",
        "plt.imshow(objetos[1][\"objeto\"])\n",
        "plt.title(\"Região de interesse #1\")"
      ]
    },
    {
      "cell_type": "code",
      "execution_count": null,
      "metadata": {
        "id": "Nde7cy3HZHcX"
      },
      "outputs": [],
      "source": [
        "plt.figure(figsize=(20,10))\n",
        "plt.imshow(objetos[2][\"objeto\"])\n",
        "plt.title(\"Região de interesse #1\")"
      ]
    },
    {
      "cell_type": "markdown",
      "metadata": {
        "id": "ui6vJQgWZHcX"
      },
      "source": [
        "Perfeito, agora já estamos prontos para juntar todas as peças e começar nossa auditoria."
      ]
    },
    {
      "cell_type": "markdown",
      "metadata": {
        "id": "V3y9kye7ZHcX"
      },
      "source": [
        "## 6. Auditoria automática em vídeo\n",
        "\n",
        "Esta é a parte final do projeto.\n",
        "Vamos fazer um checkpoint até aqui para ter certeza de que fizemos com sucesso os passos anteriores.\n",
        "\n",
        "* <input type=\"checkbox\" disabled checked> Modelo de detecção de idades treinado\n",
        "* <input type=\"checkbox\" disabled checked> Modelo de detecção de idades salvo\n",
        "* <input type=\"checkbox\" disabled checked> Modelo de detecção de idades carregado\n",
        "* <input type=\"checkbox\" disabled checked> Função de detecção de idades\n",
        "* <input type=\"checkbox\" disabled checked> Modelo de detecção de gênero treinado\n",
        "* <input type=\"checkbox\" disabled checked> Modelo de detecção de gênero salvo\n",
        "* <input type=\"checkbox\" disabled checked> Modelo de detecção de gênero carregado\n",
        "* <input type=\"checkbox\" disabled checked> Função de detecção de gênero\n",
        "* <input type=\"checkbox\" disabled checked> Função de padronização de imagens\n",
        "* <input type=\"checkbox\" disabled checked> Função de extração de faces\n",
        "* <input type=\"checkbox\" disabled checked> Função de extração de objetos\n",
        "\n",
        "O que precisamos identificar no vídeo de auditoria:\n",
        "\n",
        "* Homens com mais de 45 anos\n",
        "* Mulheres com menos de 45 anos\n",
        "* Objetos _computador portátil, celular, teclado, tv _ e _controle remoto_.\n",
        "\n",
        "Vamos começar definindo a lista de objetos."
      ]
    },
    {
      "cell_type": "code",
      "execution_count": null,
      "metadata": {
        "id": "DerpMo-jZHcY"
      },
      "outputs": [],
      "source": [
        "lista_objetos = [None]"
      ]
    },
    {
      "cell_type": "markdown",
      "metadata": {
        "id": "AI9E7UghZHcY"
      },
      "source": [
        "Nesta parte vamos reunir tudo o que fizemos até aqui.\n",
        "O algoritmo irá abrir um vídeo e, frame a frame, analisar seu conteúdo.\n",
        "Após a instrução ```if is_capturing``` iremos implementar as verificações.\n",
        "\n",
        "A execução abaixo pode demorar, pois será analisado individualmente cada frame do vídeo.\n",
        "\n",
        "O que precisamos fazer:\n",
        "\n",
        "* ```IMPLEMENTAR 1```: obter as faces de uma imagem. Neste caso receberamos uma lista de rostos no padrão que já vimos, ou seja, uma lista de ```rosto``` e ```coordenadas```.\n",
        "\n",
        "* ```IMPLEMENTAR 2```: obter as a face de um item e padronizar. Lembre-se de utilizar a função de padronização que foi desenvolvida anteriormente, que tem por finalidade ajustar o tamanho da imagem e também normalizá-la.\n",
        "\n",
        "* ```IMPLEMENTAR 3```: executar as funções de identificar a idade e gênero para a tomada de decisões de coleta de evidências.\n",
        "\n",
        "* ```IMPLEMENTAR 4```: criar as regras de armazenamento de evidências para pessoas. Consulte as regras no início do projeto sobre quais os gêneros e idades de interesse. As regiões de interesse nesse caso, os rostos, deverão ser salvos individualmente na pasta ```resultado/homem``` e ```resultado/mulher```.\n",
        "\n",
        "* ```IMPLEMENTAR 5```: criar as regras de armazenamento de evidências para objetos. As regiões de interesse nesse caso, os objetos, deverão ser salvos individualmente na pasta ```resultado/objetos```."
      ]
    },
    {
      "cell_type": "code",
      "execution_count": null,
      "metadata": {
        "id": "6_CiNLqhZHcY"
      },
      "outputs": [],
      "source": [
        "#cam.release()\n",
        "cam = cv2.VideoCapture(\"videos/video-1.avi\")\n",
        "contador = 0 \n",
        "try:\n",
        "    while(True):\n",
        "        contador += 1\n",
        "        is_capturing, imagem = cam.read()\n",
        "        \n",
        "        if is_capturing:\n",
        "            \n",
        "            # IMPLEMENTAR 1\n",
        "            # Obter Faces\n",
        "            faces = None\n",
        "            \n",
        "            for idx, face in enumerate(faces):\n",
        "                print(\"Encontrado \" + str(len(faces)) + \" rostos...\")\n",
        "                \n",
        "                # IMPLEMENTAR 2\n",
        "                # Padronizar a imagem do rosto (ROI)\n",
        "                # Obtenha a imagem do rosto da variável face e armazene em imagem_rosto\n",
        "                # Depois utilize a função padronizarROI, com a variável imagem_rosto para obter\n",
        "                # o rosto padronizado e armazenar em rosto_padronizado\n",
        "                \n",
        "                imagem_rosto = None\n",
        "                rosto_padronizado = None\n",
        "                \n",
        "                # IMPLEMENTAR 3\n",
        "                # Chame as funções para predizer gênero e idade com a imagem padronizada do rosto\n",
        "                \n",
        "                genero = None\n",
        "                idade = None\n",
        "                \n",
        "                print(\"Gênero: \" + genero + \", idade: \" + str(idade))\n",
        "                \n",
        "                # IMPLEMENTAR 4\n",
        "                # Estabeleça as regras de auditoria e salve as evidências (imagens) no diretório resultados\n",
        "                # de acordo com o identificação (resultado/homem, resultado/mulher)\n",
        "                # Cuidado para não sobrescrever as imagens\n",
        "                \n",
        "                if (True):\n",
        "                 \n",
        "                    \n",
        "            objetos = obter_objetos(imagem, lista_objetos)\n",
        "\n",
        "            # IMPLEMENTAR 5\n",
        "            # Estabeleça as regras de auditoria e salve as evidências (imagens) no diretório resultados\n",
        "            # de acordo com o identificação (resultado/objetos)\n",
        "            # Cuidado para não sobrescrever as imagens\n",
        "            \n",
        "            if (True):\n",
        "                    \n",
        "        else:\n",
        "            break\n",
        "        \n",
        "except KeyboardInterrupt:\n",
        "    cam.release()\n",
        "    print(\"Interrompido\")"
      ]
    },
    {
      "cell_type": "markdown",
      "metadata": {
        "collapsed": true,
        "id": "4EZmdAlnZHcY"
      },
      "source": [
        "> **Critério de sucesso:** identificação de 180 imagens de homens. Como uma mesma pessoa aparece em diferentes frames é comum repetir as imagens.\n",
        "\n",
        "> **Critério de sucesso:** identificação de 190 imagens de mulheres. Como uma mesma pessoa aparece em diferentes frames é comum repetir as imagens.\n",
        "\n",
        "> **Critério de sucesso:** identificação de 680 imagens de objetos selecionados. Como um mesmo objeto pode aparecer em diferentes frames é comum repetir as imagens"
      ]
    },
    {
      "cell_type": "markdown",
      "metadata": {
        "id": "doSaySuFZHcY"
      },
      "source": [
        "## 7. Conclusões finais\n",
        "\n",
        "Com base nesta jornada de construção de modelos, análises de regiões de interesse e processamento de vídeo, comente quais seriam os principais pontos de melhoria para alcançar resultados melhores em todas as etapas."
      ]
    },
    {
      "cell_type": "markdown",
      "metadata": {
        "id": "wDeT7kTcZHcY"
      },
      "source": [
        "**Resposta:**"
      ]
    }
  ],
  "metadata": {
    "kernelspec": {
      "display_name": "Python 3",
      "language": "python",
      "name": "python3"
    },
    "language_info": {
      "codemirror_mode": {
        "name": "ipython",
        "version": 3
      },
      "file_extension": ".py",
      "mimetype": "text/x-python",
      "name": "python",
      "nbconvert_exporter": "python",
      "pygments_lexer": "ipython3",
      "version": "3.8.1"
    },
    "colab": {
      "name": "object-people-audit-colab.ipynb",
      "provenance": [],
      "include_colab_link": true
    }
  },
  "nbformat": 4,
  "nbformat_minor": 0
}